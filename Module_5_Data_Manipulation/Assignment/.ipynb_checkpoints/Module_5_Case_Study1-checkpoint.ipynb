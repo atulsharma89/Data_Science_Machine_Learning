{
 "cells": [
  {
   "cell_type": "code",
   "execution_count": 2,
   "metadata": {},
   "outputs": [
    {
     "data": {
      "text/plain": [
       "'\\nFrom the data provided on Hollywood movies:\\n1. Find the highest rated movie in the “Quest” story type.\\n2. Find the genre in which there has been the greatest number of movie releases\\n3. Print the names of the top five movies with the costliest budgets.\\n4. Is there any correspondence between the critics’ evaluation of a movie and its acceptance by the public? Find out, by plotting the net profitability of a movie against the ratings it receives on Rotten Tomatoes.\\n5. Perform Operations on Files\\n\\n5.1: From the raw data below create a data frame \\'first_name\\': [\\'Jason\\', \\'Molly\\', \\'Tina\\', \\'Jake\\', \\'Amy\\'], \\'last_name\\': [\\'Miller\\', \\'Jacobson\\', \".\", \\'Milner\\', \\'Cooze\\'], \\'age\\': [42, 52, 36, 24, 73],\\n\\'preTestScore\\': [4, 24, 31, \".\", \".\"],\\n\\'postTestScore\\': [\"25,000\", \"94,000\", 57, 62, 70]\\n5.2: Save the dataframe into a csv file as example.csv\\n5.3: Read the example.csv and print the data frame\\n5.4: Read the example.csv without column heading\\nQuestion 5: Read the example.csv and make the index columns as \\'First Name’ and \\'Last Name\\'\\n5.6: Print the data frame in a Boolean form as True or False. True for Null/ NaN values and false for non-null values\\n5.7: Read the dataframe by skipping first 3 rows and print the data frame\\n5.8: Load a csv file while interpreting \",\" in strings around numbers as thousands seperators. Check the raw data \\'postTestScore\\' column has, as thousands separator.\\nComma should be ignored while reading the data. It is default behaviour, but you need to give argument to read_csv function which makes sure commas are ignored.\\n6. Perform Operations on Files\\n6.1: From the raw data below create a Pandas Series \\'Amit\\', \\'Bob\\', \\'Kate\\', \\'A\\', \\'b\\', np.nan, \\'Car\\', \\'dog\\', \\'cat\\'\\na) Print all elements in lower case\\nb) Print all the elements in upper case c) Print the length of all the elements\\n6.2: From the raw data below create a Pandas Series\\n\\' Atul\\', \\'John \\', \\' jack \\', \\'Sam\\'\\na) Print all elements after stripping spaces from the left and right b) Print all the elements after removing spaces from the left only c) Print all the elements after removing spaces from the right only\\na) split the individual strings wherever ‘_’ comes and create a list out of it.\\nb) Access the individual element of a list\\nc) Expand the elements so that all individual elements get splitted by ‘_’ and insted\\nof list returns individual elements\\n6.4: Create a series and replace either X or dog with XX-XX\\n\\'A\\', \\'B\\', \\'C\\', \\'AabX\\', \\'BacX\\',\\'\\', np.nan, \\'CABA\\', \\'dog\\', \\'cat\\'\\n6.5: Create a series and remove dollar from the numeric values \\'12\\', \\'-$10\\', \\'$10,000\\'\\n6.6:- Create a series and reverse all lower case words\\n\\'india 1998\\', \\'big country\\', np.nan\\n6.7: Create pandas series and print true if value is alphanumeric in series or false if value is not alpha numeric in series.\\n\\'1\\', \\'2\\', \\'1a\\', \\'2b\\', \\'2003c\\'\\n6.8: Create pandas series and print true if value is containing ‘A’ \\'1\\', \\'2\\', \\'1a\\', \\'2b\\', \\'America\\', \\'VietnAm\\',\\'vietnam\\', \\'2003c\\'\\n6.9: Create pandas series and print in three columns value 0 or 1 is a or b or c exists in values\\n\\'a\\', \\'a|b\\', np.nan, \\'a|c\\'\\n6.10: Create pandas dataframe having keys and ltable and rtable as below -\\n \\n\\'key\\': [\\'One\\'\\n\\n'"
      ]
     },
     "execution_count": 2,
     "metadata": {},
     "output_type": "execute_result"
    }
   ],
   "source": [
    "'''\n",
    "From the data provided on Hollywood movies:\n",
    "1. Find the highest rated movie in the “Quest” story type.\n",
    "2. Find the genre in which there has been the greatest number of movie releases\n",
    "3. Print the names of the top five movies with the costliest budgets.\n",
    "4. Is there any correspondence between the critics’ evaluation of a movie and its acceptance by the public? Find out, by plotting the net profitability of a movie against the ratings it receives on Rotten Tomatoes.\n",
    "\n",
    "5. Perform Operations on Files\n",
    "\n",
    "5.1: From the raw data below create a data frame 'first_name': ['Jason', 'Molly', 'Tina', 'Jake', 'Amy'], 'last_name': ['Miller', 'Jacobson', \".\", 'Milner', 'Cooze'], 'age': [42, 52, 36, 24, 73],\n",
    "'preTestScore': [4, 24, 31, \".\", \".\"],\n",
    "'postTestScore': [\"25,000\", \"94,000\", 57, 62, 70]\n",
    "5.2: Save the dataframe into a csv file as example.csv\n",
    "5.3: Read the example.csv and print the data frame\n",
    "5.4: Read the example.csv without column heading\n",
    "Question 5: Read the example.csv and make the index columns as 'First Name’ and 'Last Name'\n",
    "5.6: Print the data frame in a Boolean form as True or False. True for Null/ NaN values and false for non-null values\n",
    "5.7: Read the dataframe by skipping first 3 rows and print the data frame\n",
    "5.8: Load a csv file while interpreting \",\" in strings around numbers as thousands seperators. Check the raw data 'postTestScore' column has, as thousands separator.\n",
    "Comma should be ignored while reading the data. It is default behaviour, but you need to give argument to read_csv function which makes sure commas are ignored.\n",
    "6. Perform Operations on Files\n",
    "6.1: From the raw data below create a Pandas Series 'Amit', 'Bob', 'Kate', 'A', 'b', np.nan, 'Car', 'dog', 'cat'\n",
    "a) Print all elements in lower case\n",
    "b) Print all the elements in upper case c) Print the length of all the elements\n",
    "6.2: From the raw data below create a Pandas Series\n",
    "' Atul', 'John ', ' jack ', 'Sam'\n",
    "a) Print all elements after stripping spaces from the left and right b) Print all the elements after removing spaces from the left only c) Print all the elements after removing spaces from the right only\n",
    "a) split the individual strings wherever ‘_’ comes and create a list out of it.\n",
    "b) Access the individual element of a list\n",
    "c) Expand the elements so that all individual elements get splitted by ‘_’ and insted\n",
    "of list returns individual elements\n",
    "6.4: Create a series and replace either X or dog with XX-XX\n",
    "'A', 'B', 'C', 'AabX', 'BacX','', np.nan, 'CABA', 'dog', 'cat'\n",
    "6.5: Create a series and remove dollar from the numeric values '12', '-$10', '$10,000'\n",
    "6.6:- Create a series and reverse all lower case words\n",
    "'india 1998', 'big country', np.nan\n",
    "6.7: Create pandas series and print true if value is alphanumeric in series or false if value is not alpha numeric in series.\n",
    "'1', '2', '1a', '2b', '2003c'\n",
    "6.8: Create pandas series and print true if value is containing ‘A’ '1', '2', '1a', '2b', 'America', 'VietnAm','vietnam', '2003c'\n",
    "6.9: Create pandas series and print in three columns value 0 or 1 is a or b or c exists in values\n",
    "'a', 'a|b', np.nan, 'a|c'\n",
    "6.10: Create pandas dataframe having keys and ltable and rtable as below -\n",
    " \n",
    "'key': ['One'\n",
    "\n",
    "'''"
   ]
  },
  {
   "cell_type": "code",
   "execution_count": 3,
   "metadata": {},
   "outputs": [
    {
     "data": {
      "text/html": [
       "<div>\n",
       "<style scoped>\n",
       "    .dataframe tbody tr th:only-of-type {\n",
       "        vertical-align: middle;\n",
       "    }\n",
       "\n",
       "    .dataframe tbody tr th {\n",
       "        vertical-align: top;\n",
       "    }\n",
       "\n",
       "    .dataframe thead th {\n",
       "        text-align: right;\n",
       "    }\n",
       "</style>\n",
       "<table border=\"1\" class=\"dataframe\">\n",
       "  <thead>\n",
       "    <tr style=\"text-align: right;\">\n",
       "      <th></th>\n",
       "      <th>Movie</th>\n",
       "      <th>LeadStudio</th>\n",
       "      <th>RottenTomatoes</th>\n",
       "      <th>AudienceScore</th>\n",
       "      <th>Story</th>\n",
       "      <th>Genre</th>\n",
       "      <th>TheatersOpenWeek</th>\n",
       "      <th>OpeningWeekend</th>\n",
       "      <th>BOAvgOpenWeekend</th>\n",
       "      <th>DomesticGross</th>\n",
       "      <th>ForeignGross</th>\n",
       "      <th>WorldGross</th>\n",
       "      <th>Budget</th>\n",
       "      <th>Profitability</th>\n",
       "      <th>OpenProfit</th>\n",
       "      <th>Year</th>\n",
       "    </tr>\n",
       "  </thead>\n",
       "  <tbody>\n",
       "    <tr>\n",
       "      <th>0</th>\n",
       "      <td>Spider-Man 3</td>\n",
       "      <td>Sony</td>\n",
       "      <td>61.0</td>\n",
       "      <td>54.0</td>\n",
       "      <td>Metamorphosis</td>\n",
       "      <td>Action</td>\n",
       "      <td>4252.0</td>\n",
       "      <td>151.1</td>\n",
       "      <td>35540.0</td>\n",
       "      <td>336.53</td>\n",
       "      <td>554.34</td>\n",
       "      <td>890.87</td>\n",
       "      <td>258.0</td>\n",
       "      <td>345.30</td>\n",
       "      <td>58.57</td>\n",
       "      <td>2007</td>\n",
       "    </tr>\n",
       "    <tr>\n",
       "      <th>1</th>\n",
       "      <td>Shrek the Third</td>\n",
       "      <td>Paramount</td>\n",
       "      <td>42.0</td>\n",
       "      <td>57.0</td>\n",
       "      <td>Quest</td>\n",
       "      <td>Animation</td>\n",
       "      <td>4122.0</td>\n",
       "      <td>121.6</td>\n",
       "      <td>29507.0</td>\n",
       "      <td>322.72</td>\n",
       "      <td>476.24</td>\n",
       "      <td>798.96</td>\n",
       "      <td>160.0</td>\n",
       "      <td>499.35</td>\n",
       "      <td>76.00</td>\n",
       "      <td>2007</td>\n",
       "    </tr>\n",
       "    <tr>\n",
       "      <th>2</th>\n",
       "      <td>Transformers</td>\n",
       "      <td>Paramount</td>\n",
       "      <td>57.0</td>\n",
       "      <td>89.0</td>\n",
       "      <td>Monster Force</td>\n",
       "      <td>Action</td>\n",
       "      <td>4011.0</td>\n",
       "      <td>70.5</td>\n",
       "      <td>17577.0</td>\n",
       "      <td>319.25</td>\n",
       "      <td>390.46</td>\n",
       "      <td>709.71</td>\n",
       "      <td>150.0</td>\n",
       "      <td>473.14</td>\n",
       "      <td>47.00</td>\n",
       "      <td>2007</td>\n",
       "    </tr>\n",
       "    <tr>\n",
       "      <th>3</th>\n",
       "      <td>Pirates of the Caribbean: At World's End</td>\n",
       "      <td>Disney</td>\n",
       "      <td>45.0</td>\n",
       "      <td>74.0</td>\n",
       "      <td>Rescue</td>\n",
       "      <td>Action</td>\n",
       "      <td>4362.0</td>\n",
       "      <td>114.7</td>\n",
       "      <td>26302.0</td>\n",
       "      <td>309.42</td>\n",
       "      <td>654.00</td>\n",
       "      <td>963.42</td>\n",
       "      <td>300.0</td>\n",
       "      <td>321.14</td>\n",
       "      <td>38.23</td>\n",
       "      <td>2007</td>\n",
       "    </tr>\n",
       "    <tr>\n",
       "      <th>4</th>\n",
       "      <td>Harry Potter and the Order of the Phoenix</td>\n",
       "      <td>Warner Bros</td>\n",
       "      <td>78.0</td>\n",
       "      <td>82.0</td>\n",
       "      <td>Quest</td>\n",
       "      <td>Adventure</td>\n",
       "      <td>4285.0</td>\n",
       "      <td>77.1</td>\n",
       "      <td>17998.0</td>\n",
       "      <td>292.00</td>\n",
       "      <td>647.88</td>\n",
       "      <td>939.89</td>\n",
       "      <td>150.0</td>\n",
       "      <td>626.59</td>\n",
       "      <td>51.40</td>\n",
       "      <td>2007</td>\n",
       "    </tr>\n",
       "  </tbody>\n",
       "</table>\n",
       "</div>"
      ],
      "text/plain": [
       "                                       Movie   LeadStudio  RottenTomatoes  \\\n",
       "0                               Spider-Man 3         Sony            61.0   \n",
       "1                            Shrek the Third    Paramount            42.0   \n",
       "2                               Transformers    Paramount            57.0   \n",
       "3   Pirates of the Caribbean: At World's End       Disney            45.0   \n",
       "4  Harry Potter and the Order of the Phoenix  Warner Bros            78.0   \n",
       "\n",
       "   AudienceScore          Story      Genre  TheatersOpenWeek  OpeningWeekend  \\\n",
       "0           54.0  Metamorphosis     Action            4252.0           151.1   \n",
       "1           57.0          Quest  Animation            4122.0           121.6   \n",
       "2           89.0  Monster Force     Action            4011.0            70.5   \n",
       "3           74.0         Rescue     Action            4362.0           114.7   \n",
       "4           82.0          Quest  Adventure            4285.0            77.1   \n",
       "\n",
       "   BOAvgOpenWeekend  DomesticGross  ForeignGross  WorldGross  Budget  \\\n",
       "0           35540.0         336.53        554.34      890.87   258.0   \n",
       "1           29507.0         322.72        476.24      798.96   160.0   \n",
       "2           17577.0         319.25        390.46      709.71   150.0   \n",
       "3           26302.0         309.42        654.00      963.42   300.0   \n",
       "4           17998.0         292.00        647.88      939.89   150.0   \n",
       "\n",
       "   Profitability  OpenProfit  Year  \n",
       "0         345.30       58.57  2007  \n",
       "1         499.35       76.00  2007  \n",
       "2         473.14       47.00  2007  \n",
       "3         321.14       38.23  2007  \n",
       "4         626.59       51.40  2007  "
      ]
     },
     "execution_count": 3,
     "metadata": {},
     "output_type": "execute_result"
    }
   ],
   "source": [
    "import pandas as pd\n",
    "\n",
    "data='/Users/atul595525/Desktop/learning/Edureka_courses/Python_For_Data_Science/Class_5_Data_Manipulation/574_m5_datasets_v3.0/HollywoodMovies.csv'\n",
    "\n",
    "df=pd.read_csv(data)\n",
    "\n",
    "df.head(5)"
   ]
  },
  {
   "cell_type": "code",
   "execution_count": 4,
   "metadata": {},
   "outputs": [
    {
     "name": "stdout",
     "output_type": "stream",
     "text": [
      "(970, 16)\n",
      "Index(['Movie', 'LeadStudio', 'RottenTomatoes', 'AudienceScore', 'Story',\n",
      "       'Genre', 'TheatersOpenWeek', 'OpeningWeekend', 'BOAvgOpenWeekend',\n",
      "       'DomesticGross', 'ForeignGross', 'WorldGross', 'Budget',\n",
      "       'Profitability', 'OpenProfit', 'Year'],\n",
      "      dtype='object')\n"
     ]
    }
   ],
   "source": [
    "print(df.shape)\n",
    "\n",
    "print(df.columns)"
   ]
  },
  {
   "cell_type": "code",
   "execution_count": null,
   "metadata": {},
   "outputs": [],
   "source": []
  },
  {
   "cell_type": "code",
   "execution_count": 5,
   "metadata": {},
   "outputs": [
    {
     "data": {
      "text/html": [
       "<div>\n",
       "<style scoped>\n",
       "    .dataframe tbody tr th:only-of-type {\n",
       "        vertical-align: middle;\n",
       "    }\n",
       "\n",
       "    .dataframe tbody tr th {\n",
       "        vertical-align: top;\n",
       "    }\n",
       "\n",
       "    .dataframe thead th {\n",
       "        text-align: right;\n",
       "    }\n",
       "</style>\n",
       "<table border=\"1\" class=\"dataframe\">\n",
       "  <thead>\n",
       "    <tr style=\"text-align: right;\">\n",
       "      <th></th>\n",
       "      <th>Movie</th>\n",
       "      <th>Story</th>\n",
       "      <th>RottenTomatoes</th>\n",
       "      <th>AudienceScore</th>\n",
       "    </tr>\n",
       "  </thead>\n",
       "  <tbody>\n",
       "    <tr>\n",
       "      <th>343</th>\n",
       "      <td>The Hurt Locker</td>\n",
       "      <td>Quest</td>\n",
       "      <td>97.0</td>\n",
       "      <td>83.0</td>\n",
       "    </tr>\n",
       "    <tr>\n",
       "      <th>629</th>\n",
       "      <td>The Muppets</td>\n",
       "      <td>Quest</td>\n",
       "      <td>97.0</td>\n",
       "      <td>87.0</td>\n",
       "    </tr>\n",
       "    <tr>\n",
       "      <th>649</th>\n",
       "      <td>Winnie The Pooh</td>\n",
       "      <td>Quest</td>\n",
       "      <td>91.0</td>\n",
       "      <td>79.0</td>\n",
       "    </tr>\n",
       "    <tr>\n",
       "      <th>537</th>\n",
       "      <td>Dolphin Tale</td>\n",
       "      <td>Quest</td>\n",
       "      <td>84.0</td>\n",
       "      <td>81.0</td>\n",
       "    </tr>\n",
       "    <tr>\n",
       "      <th>241</th>\n",
       "      <td>Harry Potter and the Half-Blood Prince</td>\n",
       "      <td>Quest</td>\n",
       "      <td>83.0</td>\n",
       "      <td>75.0</td>\n",
       "    </tr>\n",
       "  </tbody>\n",
       "</table>\n",
       "</div>"
      ],
      "text/plain": [
       "                                      Movie  Story  RottenTomatoes  \\\n",
       "343                         The Hurt Locker  Quest            97.0   \n",
       "629                             The Muppets  Quest            97.0   \n",
       "649                         Winnie The Pooh  Quest            91.0   \n",
       "537                            Dolphin Tale  Quest            84.0   \n",
       "241  Harry Potter and the Half-Blood Prince  Quest            83.0   \n",
       "\n",
       "     AudienceScore  \n",
       "343           83.0  \n",
       "629           87.0  \n",
       "649           79.0  \n",
       "537           81.0  \n",
       "241           75.0  "
      ]
     },
     "execution_count": 5,
     "metadata": {},
     "output_type": "execute_result"
    }
   ],
   "source": [
    "#1. Find the highest rated movie in the “Quest” story type.\n",
    "\n",
    "#df_2011_data_month_Amount=df_2011_data[['Month','Amount']]\n",
    "\n",
    "\n",
    "df_quest=df[['Movie','Story','RottenTomatoes','AudienceScore']]\n",
    "\n",
    "#df_woman_With_phd = df[(df['Gender']==0) & (df['PhD']==1)]\n",
    "\n",
    "df_quest_stry=df_quest[(df['Story'])=='Quest']\n",
    "\n",
    "#print(df_quest_stry.head(5))\n",
    "\n",
    "df_quest_stry.sort_values(by='RottenTomatoes', ascending=False).head(5)\n"
   ]
  },
  {
   "cell_type": "code",
   "execution_count": 15,
   "metadata": {},
   "outputs": [
    {
     "data": {
      "text/plain": [
       "Genre\n",
       "Comedy       177\n",
       "Action       166\n",
       "Drama        109\n",
       "Horror        52\n",
       "Animation     51\n",
       "Thriller      35\n",
       "Adventure     30\n",
       "Romance       20\n",
       "Crime         15\n",
       "Biography     14\n",
       "Name: Movie, dtype: int64"
      ]
     },
     "execution_count": 15,
     "metadata": {},
     "output_type": "execute_result"
    }
   ],
   "source": [
    "#2. Find the genre in which there has been the greatest number of movie releases\n",
    "\n",
    "#df.head(5)\n",
    "#https://realpython.com/pandas-groupby/\n",
    "\n",
    "df_gen_movies=df[['Movie','Genre']]\n",
    "\n",
    "df_gen_movies.head(5)\n",
    "\n",
    "#df.dtypes\n",
    "\n",
    "df_gen_movies_COUNT = df.groupby(\"Genre\")[\"Movie\"].count().sort_values(ascending=False)\n",
    "\n",
    "df_gen_movies_COUNT.head(10)\n",
    "\n",
    "#df.groupby([\"state\", \"gender\"])[\"last_name\"].count()\n",
    "\n",
    "#df_gen_movies_COUNT.head(5)\n",
    "\n",
    "#final_df = df_gen_movies_COUNT.sort_values(by=['Budget'], ascending=False)\n",
    "\n"
   ]
  },
  {
   "cell_type": "code",
   "execution_count": 19,
   "metadata": {},
   "outputs": [
    {
     "data": {
      "text/plain": [
       "Movie\n",
       "Pirates of the Caribbean: At World's End    300.0\n",
       "Tangled                                     260.0\n",
       "Spider-Man 3                                258.0\n",
       "John Carter                                 250.0\n",
       "Harry Potter and the Half-Blood Prince      250.0\n",
       "Name: Budget, dtype: float64"
      ]
     },
     "execution_count": 19,
     "metadata": {},
     "output_type": "execute_result"
    }
   ],
   "source": [
    "#3. Print the names of the top five movies with the costliest budgets.\n",
    "\n",
    "#df.head(5)\n",
    "\n",
    "df_movies_budget=df[['Movie','Budget']]\n",
    "\n",
    "#df_movies_budget.head(5)\n",
    "\n",
    "\n",
    "#df_movies_budget.groupby(['Movie']).sum().head(5)\n",
    "\n",
    "df_new=df_movies_budget.groupby(['Movie'])['Budget'].sum().sort_values(ascending=False)\n",
    "\n",
    "\n",
    "\n",
    "'''\n",
    "Movie\n",
    "Pirates of the Caribbean: At World's End    300.0\n",
    "Tangled                                     260.0\n",
    "Spider-Man 3                                258.0\n",
    "John Carter                                 250.0\n",
    "Harry Potter and the Half-Blood Prince      250.0\n",
    "\n",
    "'''\n",
    "\n",
    "df_new.head(5)\n",
    "\n",
    "\n",
    "\n"
   ]
  },
  {
   "cell_type": "code",
   "execution_count": 30,
   "metadata": {},
   "outputs": [
    {
     "name": "stderr",
     "output_type": "stream",
     "text": [
      "/Users/atul595525/anaconda3/lib/python3.7/site-packages/ipykernel_launcher.py:23: FutureWarning: by argument to sort_index is deprecated, please use .sort_values(by=...)\n"
     ]
    },
    {
     "data": {
      "image/png": "[encoded data removed]",
      "text/plain": [
       "<Figure size 432x288 with 1 Axes>"
      ]
     },
     "metadata": {},
     "output_type": "display_data"
    }
   ],
   "source": [
    "#4. Is there any correspondence between the critics’ evaluation of a movie \n",
    "#and its acceptance by the public? Find out, by plotting the net profitability of a movie against the \n",
    "#ratings it receives on Rotten Tomatoes.\n",
    "\n",
    "\n",
    "#df.head(5)\n",
    "\n",
    "#df_movies_acceptance=df[['Movie','RottenTomatoes','Profitability']]\n",
    "\n",
    "#df_movies_acceptance.head(5)\n",
    "\n",
    "\n",
    "import pandas as pd\n",
    "import numpy as np\n",
    "import matplotlib.pyplot as plt\n",
    "\n",
    "#data='/Users/atul595525/Desktop/learning/Edureka_courses/Python_For_Data_Science/Class_5_Data_Manipulation/574_m5_datasets_v3.0/HollywoodMovies.csv'\n",
    "\n",
    "\n",
    "dataset=pd.read_csv('/Users/atul595525/Desktop/learning/Edureka_courses/Python_For_Data_Science/Class_5_Data_Manipulation/574_m5_datasets_v3.0/HollywoodMovies.csv')\n",
    "selected_data=dataset.loc[:,['Movie','RottenTomatoes','Profitability']]\n",
    "df=pd.DataFrame(selected_data)\n",
    "sorted_data=selected_data.sort_index(by=['RottenTomatoes'],ascending=False)\n",
    "#print(sorted_data.head(5))\n",
    "\n",
    "selected_sorted_data=sorted_data.iloc[:10]\n",
    "fig1, ax1 = plt.subplots()\n",
    "ax1.axis('equal')\n",
    "plt.pie(selected_sorted_data['Profitability'],labels=selected_sorted_data['Movie'])\n",
    "movies=list(selected_sorted_data['Movie'])\n",
    "plt.legend(movies,loc=2)\n",
    "plt.show()\n"
   ]
  },
  {
   "cell_type": "code",
   "execution_count": 31,
   "metadata": {},
   "outputs": [
    {
     "data": {
      "text/plain": [
       "'\\n5.2: Save the dataframe into a csv file as example.csv\\n5.3: Read the example.csv and print the data frame\\n5.4: Read the example.csv without column heading\\nQuestion 5: Read the example.csv and make the index columns as \\'First Name’ and \\'Last Name\\'\\n5.6: Print the data frame in a Boolean form as True or False. True for Null/ NaN values and false for non-null values\\n5.7: Read the dataframe by skipping first 3 rows and print the data frame\\n5.8: Load a csv file while interpreting \",\" in strings around numbers as thousands seperators. Check the raw data \\'postTestScore\\' column has, as thousands separator.\\nComma should be ignored while reading the data. It is default behaviour, but you need to give argument to read_csv function which makes sure commas are ignored.\\n\\n'"
      ]
     },
     "execution_count": 31,
     "metadata": {},
     "output_type": "execute_result"
    }
   ],
   "source": [
    "#5. Perform Operations on Files\n",
    "\n",
    "'''\n",
    "\n",
    "\n",
    "\n",
    "\n",
    "'''"
   ]
  },
  {
   "cell_type": "code",
   "execution_count": 35,
   "metadata": {},
   "outputs": [
    {
     "data": {
      "text/html": [
       "<div>\n",
       "<style scoped>\n",
       "    .dataframe tbody tr th:only-of-type {\n",
       "        vertical-align: middle;\n",
       "    }\n",
       "\n",
       "    .dataframe tbody tr th {\n",
       "        vertical-align: top;\n",
       "    }\n",
       "\n",
       "    .dataframe thead th {\n",
       "        text-align: right;\n",
       "    }\n",
       "</style>\n",
       "<table border=\"1\" class=\"dataframe\">\n",
       "  <thead>\n",
       "    <tr style=\"text-align: right;\">\n",
       "      <th></th>\n",
       "      <th>first_name</th>\n",
       "      <th>last_name</th>\n",
       "      <th>age</th>\n",
       "      <th>preTestScore</th>\n",
       "      <th>postTestScore</th>\n",
       "    </tr>\n",
       "  </thead>\n",
       "  <tbody>\n",
       "    <tr>\n",
       "      <th>0</th>\n",
       "      <td>Jason</td>\n",
       "      <td>Miller</td>\n",
       "      <td>42</td>\n",
       "      <td>4</td>\n",
       "      <td>25,000</td>\n",
       "    </tr>\n",
       "    <tr>\n",
       "      <th>1</th>\n",
       "      <td>Molly</td>\n",
       "      <td>Jacobson</td>\n",
       "      <td>52</td>\n",
       "      <td>24</td>\n",
       "      <td>94,000</td>\n",
       "    </tr>\n",
       "    <tr>\n",
       "      <th>2</th>\n",
       "      <td>Tina</td>\n",
       "      <td>.</td>\n",
       "      <td>36</td>\n",
       "      <td>31</td>\n",
       "      <td>57</td>\n",
       "    </tr>\n",
       "    <tr>\n",
       "      <th>3</th>\n",
       "      <td>Jake</td>\n",
       "      <td>Milner</td>\n",
       "      <td>24</td>\n",
       "      <td>.</td>\n",
       "      <td>62</td>\n",
       "    </tr>\n",
       "    <tr>\n",
       "      <th>4</th>\n",
       "      <td>Amy</td>\n",
       "      <td>Cooze</td>\n",
       "      <td>73</td>\n",
       "      <td>.</td>\n",
       "      <td>70</td>\n",
       "    </tr>\n",
       "  </tbody>\n",
       "</table>\n",
       "</div>"
      ],
      "text/plain": [
       "  first_name last_name  age preTestScore postTestScore\n",
       "0      Jason    Miller   42            4        25,000\n",
       "1      Molly  Jacobson   52           24        94,000\n",
       "2       Tina         .   36           31            57\n",
       "3       Jake    Milner   24            .            62\n",
       "4        Amy     Cooze   73            .            70"
      ]
     },
     "execution_count": 35,
     "metadata": {},
     "output_type": "execute_result"
    }
   ],
   "source": [
    "'''\n",
    "5.1: From the raw data below create a data frame 'first_name': ['Jason', 'Molly', 'Tina', 'Jake', 'Amy'], 'last_name': ['Miller', 'Jacobson', \".\", 'Milner', 'Cooze'], 'age': [42, 52, 36, 24, 73],\n",
    "'preTestScore': [4, 24, 31, \".\", \".\"],\n",
    "'postTestScore': [\"25,000\", \"94,000\", 57, 62, 70]\n",
    "\n",
    "'''\n",
    "\n",
    "data={'first_name': ['Jason', 'Molly', 'Tina', 'Jake', 'Amy'], \n",
    "      'last_name': ['Miller', 'Jacobson', \".\", 'Milner', 'Cooze'], \n",
    "      'age': [42, 52, 36, 24, 73],\n",
    "      'preTestScore': [4, 24, 31, \".\", \".\"],\n",
    "      'postTestScore': [\"25,000\", \"94,000\", 57, 62, 70]\n",
    "     }\n",
    "\n",
    "\n",
    "\n",
    "df=pd.DataFrame(data)\n",
    "\n",
    "df"
   ]
  },
  {
   "cell_type": "code",
   "execution_count": 37,
   "metadata": {},
   "outputs": [],
   "source": [
    "#5.2: Save the dataframe into a csv file as example.csv\n",
    "\n",
    "df.to_csv(r'/Users/atul595525/Desktop/learning/Edureka_courses/Python_For_Data_Science/Class_5_Data_Manipulation/574_m5_datasets_v3.0/example.csv', index = False)"
   ]
  },
  {
   "cell_type": "code",
   "execution_count": 38,
   "metadata": {},
   "outputs": [
    {
     "data": {
      "text/html": [
       "<div>\n",
       "<style scoped>\n",
       "    .dataframe tbody tr th:only-of-type {\n",
       "        vertical-align: middle;\n",
       "    }\n",
       "\n",
       "    .dataframe tbody tr th {\n",
       "        vertical-align: top;\n",
       "    }\n",
       "\n",
       "    .dataframe thead th {\n",
       "        text-align: right;\n",
       "    }\n",
       "</style>\n",
       "<table border=\"1\" class=\"dataframe\">\n",
       "  <thead>\n",
       "    <tr style=\"text-align: right;\">\n",
       "      <th></th>\n",
       "      <th>first_name</th>\n",
       "      <th>last_name</th>\n",
       "      <th>age</th>\n",
       "      <th>preTestScore</th>\n",
       "      <th>postTestScore</th>\n",
       "    </tr>\n",
       "  </thead>\n",
       "  <tbody>\n",
       "    <tr>\n",
       "      <th>0</th>\n",
       "      <td>Jason</td>\n",
       "      <td>Miller</td>\n",
       "      <td>42</td>\n",
       "      <td>4</td>\n",
       "      <td>25,000</td>\n",
       "    </tr>\n",
       "    <tr>\n",
       "      <th>1</th>\n",
       "      <td>Molly</td>\n",
       "      <td>Jacobson</td>\n",
       "      <td>52</td>\n",
       "      <td>24</td>\n",
       "      <td>94,000</td>\n",
       "    </tr>\n",
       "    <tr>\n",
       "      <th>2</th>\n",
       "      <td>Tina</td>\n",
       "      <td>.</td>\n",
       "      <td>36</td>\n",
       "      <td>31</td>\n",
       "      <td>57</td>\n",
       "    </tr>\n",
       "    <tr>\n",
       "      <th>3</th>\n",
       "      <td>Jake</td>\n",
       "      <td>Milner</td>\n",
       "      <td>24</td>\n",
       "      <td>.</td>\n",
       "      <td>62</td>\n",
       "    </tr>\n",
       "    <tr>\n",
       "      <th>4</th>\n",
       "      <td>Amy</td>\n",
       "      <td>Cooze</td>\n",
       "      <td>73</td>\n",
       "      <td>.</td>\n",
       "      <td>70</td>\n",
       "    </tr>\n",
       "  </tbody>\n",
       "</table>\n",
       "</div>"
      ],
      "text/plain": [
       "  first_name last_name  age preTestScore postTestScore\n",
       "0      Jason    Miller   42            4        25,000\n",
       "1      Molly  Jacobson   52           24        94,000\n",
       "2       Tina         .   36           31            57\n",
       "3       Jake    Milner   24            .            62\n",
       "4        Amy     Cooze   73            .            70"
      ]
     },
     "execution_count": 38,
     "metadata": {},
     "output_type": "execute_result"
    }
   ],
   "source": [
    "#5.3: Read the example.csv and print the data frame\n",
    "\n",
    "data='/Users/atul595525/Desktop/learning/Edureka_courses/Python_For_Data_Science/Class_5_Data_Manipulation/574_m5_datasets_v3.0/example.csv'\n",
    "\n",
    "df_new=pd.read_csv(data)\n",
    "\n",
    "df_new.head(6)\n",
    "\n"
   ]
  },
  {
   "cell_type": "code",
   "execution_count": 42,
   "metadata": {},
   "outputs": [
    {
     "data": {
      "text/html": [
       "<div>\n",
       "<style scoped>\n",
       "    .dataframe tbody tr th:only-of-type {\n",
       "        vertical-align: middle;\n",
       "    }\n",
       "\n",
       "    .dataframe tbody tr th {\n",
       "        vertical-align: top;\n",
       "    }\n",
       "\n",
       "    .dataframe thead th {\n",
       "        text-align: right;\n",
       "    }\n",
       "</style>\n",
       "<table border=\"1\" class=\"dataframe\">\n",
       "  <thead>\n",
       "    <tr style=\"text-align: right;\">\n",
       "      <th></th>\n",
       "      <th>0</th>\n",
       "      <th>1</th>\n",
       "      <th>2</th>\n",
       "      <th>3</th>\n",
       "      <th>4</th>\n",
       "    </tr>\n",
       "  </thead>\n",
       "  <tbody>\n",
       "    <tr>\n",
       "      <th>0</th>\n",
       "      <td>first_name</td>\n",
       "      <td>last_name</td>\n",
       "      <td>age</td>\n",
       "      <td>preTestScore</td>\n",
       "      <td>postTestScore</td>\n",
       "    </tr>\n",
       "    <tr>\n",
       "      <th>1</th>\n",
       "      <td>Jason</td>\n",
       "      <td>Miller</td>\n",
       "      <td>42</td>\n",
       "      <td>4</td>\n",
       "      <td>25,000</td>\n",
       "    </tr>\n",
       "    <tr>\n",
       "      <th>2</th>\n",
       "      <td>Molly</td>\n",
       "      <td>Jacobson</td>\n",
       "      <td>52</td>\n",
       "      <td>24</td>\n",
       "      <td>94,000</td>\n",
       "    </tr>\n",
       "    <tr>\n",
       "      <th>3</th>\n",
       "      <td>Tina</td>\n",
       "      <td>.</td>\n",
       "      <td>36</td>\n",
       "      <td>31</td>\n",
       "      <td>57</td>\n",
       "    </tr>\n",
       "    <tr>\n",
       "      <th>4</th>\n",
       "      <td>Jake</td>\n",
       "      <td>Milner</td>\n",
       "      <td>24</td>\n",
       "      <td>.</td>\n",
       "      <td>62</td>\n",
       "    </tr>\n",
       "    <tr>\n",
       "      <th>5</th>\n",
       "      <td>Amy</td>\n",
       "      <td>Cooze</td>\n",
       "      <td>73</td>\n",
       "      <td>.</td>\n",
       "      <td>70</td>\n",
       "    </tr>\n",
       "  </tbody>\n",
       "</table>\n",
       "</div>"
      ],
      "text/plain": [
       "            0          1    2             3              4\n",
       "0  first_name  last_name  age  preTestScore  postTestScore\n",
       "1       Jason     Miller   42             4         25,000\n",
       "2       Molly   Jacobson   52            24         94,000\n",
       "3        Tina          .   36            31             57\n",
       "4        Jake     Milner   24             .             62\n",
       "5         Amy      Cooze   73             .             70"
      ]
     },
     "execution_count": 42,
     "metadata": {},
     "output_type": "execute_result"
    }
   ],
   "source": [
    "#5.4: Read the example.csv without column heading\n",
    "\n",
    "data='/Users/atul595525/Desktop/learning/Edureka_courses/Python_For_Data_Science/Class_5_Data_Manipulation/574_m5_datasets_v3.0/example.csv'\n",
    "\n",
    "df_new=pd.read_csv(data, header = None)\n",
    "\n",
    "df_new.head(6)\n",
    "\n",
    "\n",
    "\n",
    "\n"
   ]
  },
  {
   "cell_type": "code",
   "execution_count": 47,
   "metadata": {},
   "outputs": [
    {
     "data": {
      "text/html": [
       "<div>\n",
       "<style scoped>\n",
       "    .dataframe tbody tr th:only-of-type {\n",
       "        vertical-align: middle;\n",
       "    }\n",
       "\n",
       "    .dataframe tbody tr th {\n",
       "        vertical-align: top;\n",
       "    }\n",
       "\n",
       "    .dataframe thead th {\n",
       "        text-align: right;\n",
       "    }\n",
       "</style>\n",
       "<table border=\"1\" class=\"dataframe\">\n",
       "  <thead>\n",
       "    <tr style=\"text-align: right;\">\n",
       "      <th></th>\n",
       "      <th></th>\n",
       "      <th>age</th>\n",
       "      <th>preTestScore</th>\n",
       "      <th>postTestScore</th>\n",
       "    </tr>\n",
       "    <tr>\n",
       "      <th>first_name</th>\n",
       "      <th>last_name</th>\n",
       "      <th></th>\n",
       "      <th></th>\n",
       "      <th></th>\n",
       "    </tr>\n",
       "  </thead>\n",
       "  <tbody>\n",
       "    <tr>\n",
       "      <th>Jason</th>\n",
       "      <th>Miller</th>\n",
       "      <td>42</td>\n",
       "      <td>4</td>\n",
       "      <td>25,000</td>\n",
       "    </tr>\n",
       "    <tr>\n",
       "      <th>Molly</th>\n",
       "      <th>Jacobson</th>\n",
       "      <td>52</td>\n",
       "      <td>24</td>\n",
       "      <td>94,000</td>\n",
       "    </tr>\n",
       "    <tr>\n",
       "      <th>Tina</th>\n",
       "      <th>.</th>\n",
       "      <td>36</td>\n",
       "      <td>31</td>\n",
       "      <td>57</td>\n",
       "    </tr>\n",
       "    <tr>\n",
       "      <th>Jake</th>\n",
       "      <th>Milner</th>\n",
       "      <td>24</td>\n",
       "      <td>.</td>\n",
       "      <td>62</td>\n",
       "    </tr>\n",
       "    <tr>\n",
       "      <th>Amy</th>\n",
       "      <th>Cooze</th>\n",
       "      <td>73</td>\n",
       "      <td>.</td>\n",
       "      <td>70</td>\n",
       "    </tr>\n",
       "  </tbody>\n",
       "</table>\n",
       "</div>"
      ],
      "text/plain": [
       "                      age preTestScore postTestScore\n",
       "first_name last_name                                \n",
       "Jason      Miller      42            4        25,000\n",
       "Molly      Jacobson    52           24        94,000\n",
       "Tina       .           36           31            57\n",
       "Jake       Milner      24            .            62\n",
       "Amy        Cooze       73            .            70"
      ]
     },
     "execution_count": 47,
     "metadata": {},
     "output_type": "execute_result"
    }
   ],
   "source": [
    "#Question 5: Read the example.csv and make the index columns as 'First Name’ and 'Last Name'\n",
    "\n",
    "data='/Users/atul595525/Desktop/learning/Edureka_courses/Python_For_Data_Science/Class_5_Data_Manipulation/574_m5_datasets_v3.0/example.csv'\n",
    "\n",
    "df_new=pd.read_csv(data).set_index(['first_name','last_name'])\n",
    "\n",
    "df_new.head(6)"
   ]
  },
  {
   "cell_type": "code",
   "execution_count": 52,
   "metadata": {},
   "outputs": [
    {
     "name": "stdout",
     "output_type": "stream",
     "text": [
      "  first_name last_name  age preTestScore postTestScore\n",
      "0      Jason    Miller   42            4        25,000\n",
      "1      Molly  Jacobson   52           24        94,000\n",
      "2       Tina         .   36           31            57\n",
      "3       Jake    Milner   24            .            62\n",
      "4        Amy     Cooze   73            .            70\n",
      "   first_name  last_name    age  preTestScore  postTestScore\n",
      "0       False      False  False         False          False\n",
      "1       False      False  False         False          False\n",
      "2       False      False  False         False          False\n",
      "3       False      False  False         False          False\n",
      "4       False      False  False         False          False\n"
     ]
    }
   ],
   "source": [
    "#5.6: Print the data frame in a Boolean form as True or False. True for Null/ NaN values and false for non-null values\n",
    "\n",
    "'''\n",
    "dataset5=pd.read_csv(file_path)\n",
    "df5=pd.DataFrame(dataset5)\n",
    "# print df5.isnull()\n",
    "'''\n",
    "\n",
    "data='/Users/atul595525/Desktop/learning/Edureka_courses/Python_For_Data_Science/Class_5_Data_Manipulation/574_m5_datasets_v3.0/example.csv'\n",
    "\n",
    "df_new=pd.read_csv(data)\n",
    "\n",
    "print(df_new.head(6))\n",
    "\n",
    "'''\n",
    "first_name\tlast_name\tage\tpreTestScore\tpostTestScore\n",
    "0\tJason\tMiller\t42\t4\t25,000\n",
    "1\tMolly\tJacobson\t52\t24\t94,000\n",
    "2\tTina\t.\t36\t31\t57\n",
    "3\tJake\tMilner\t24\t.\t62\n",
    "4\tAmy\tCooze\t73\t.\t70\n",
    "\n",
    "'''\n",
    "\n",
    "print(df_new.isnull())\n",
    "\n"
   ]
  },
  {
   "cell_type": "code",
   "execution_count": 49,
   "metadata": {},
   "outputs": [
    {
     "data": {
      "text/html": [
       "<div>\n",
       "<style scoped>\n",
       "    .dataframe tbody tr th:only-of-type {\n",
       "        vertical-align: middle;\n",
       "    }\n",
       "\n",
       "    .dataframe tbody tr th {\n",
       "        vertical-align: top;\n",
       "    }\n",
       "\n",
       "    .dataframe thead th {\n",
       "        text-align: right;\n",
       "    }\n",
       "</style>\n",
       "<table border=\"1\" class=\"dataframe\">\n",
       "  <thead>\n",
       "    <tr style=\"text-align: right;\">\n",
       "      <th></th>\n",
       "      <th>Tina</th>\n",
       "      <th>.</th>\n",
       "      <th>36</th>\n",
       "      <th>31</th>\n",
       "      <th>57</th>\n",
       "    </tr>\n",
       "  </thead>\n",
       "  <tbody>\n",
       "    <tr>\n",
       "      <th>0</th>\n",
       "      <td>Jake</td>\n",
       "      <td>Milner</td>\n",
       "      <td>24</td>\n",
       "      <td>.</td>\n",
       "      <td>62</td>\n",
       "    </tr>\n",
       "    <tr>\n",
       "      <th>1</th>\n",
       "      <td>Amy</td>\n",
       "      <td>Cooze</td>\n",
       "      <td>73</td>\n",
       "      <td>.</td>\n",
       "      <td>70</td>\n",
       "    </tr>\n",
       "  </tbody>\n",
       "</table>\n",
       "</div>"
      ],
      "text/plain": [
       "   Tina       .  36 31  57\n",
       "0  Jake  Milner  24  .  62\n",
       "1   Amy   Cooze  73  .  70"
      ]
     },
     "execution_count": 49,
     "metadata": {},
     "output_type": "execute_result"
    }
   ],
   "source": [
    "#5.7: Read the dataframe by skipping first 3 rows and print the data frame\n",
    "\n",
    "data='/Users/atul595525/Desktop/learning/Edureka_courses/Python_For_Data_Science/Class_5_Data_Manipulation/574_m5_datasets_v3.0/example.csv'\n",
    "\n",
    "#df_new=pd.read_csv(data,skiprows=[1,2,3])\n",
    "\n",
    "df_new=pd.read_csv(data,skiprows=3)\n",
    "df_new.head(6)\n"
   ]
  },
  {
   "cell_type": "code",
   "execution_count": null,
   "metadata": {},
   "outputs": [],
   "source": [
    "#5.8: Load a csv file while interpreting \",\" in strings around numbers as thousands seperators. \n",
    "#Check the raw data 'postTestScore' column has, as thousands separator.\n",
    "#Comma should be ignored while reading the data. It is default behaviour, but you need to give argument to \n",
    "#read_csv function which makes sure commas are ignored.\n",
    "\n",
    "data=pd.read_csv(file_path, index_col=4).filter(regex='\\d{4}')\n"
   ]
  },
  {
   "cell_type": "code",
   "execution_count": null,
   "metadata": {},
   "outputs": [],
   "source": [
    "'''\n",
    "6. Perform Operations on Files\n",
    "\n",
    "\n",
    "\n",
    "\n",
    "\n",
    "\n",
    "\n",
    "6.4: Create a series and replace either X or dog with XX-XX\n",
    "'A', 'B', 'C', 'AabX', 'BacX','', np.nan, 'CABA', 'dog', 'cat'\n",
    "6.5: Create a series and remove dollar from the numeric values '12', '-$10', '$10,000'\n",
    "6.6:- Create a series and reverse all lower case words\n",
    "'india 1998', 'big country', np.nan\n",
    "6.7: Create pandas series and print true if value is alphanumeric in series or false if value is not alpha numeric in series.\n",
    "'1', '2', '1a', '2b', '2003c'\n",
    "6.8: Create pandas series and print true if value is containing ‘A’ '1', '2', '1a', '2b', 'America', 'VietnAm','vietnam', '2003c'\n",
    "6.9: Create pandas series and print in three columns value 0 or 1 is a or b or c exists in values\n",
    "'a', 'a|b', np.nan, 'a|c'\n",
    "6.10: Create pandas dataframe having keys and ltable and rtable as below -\n",
    "\n",
    "'key': ['One', 'Two'], 'ltable': [1, 2] \n",
    "'key': ['One', 'Two'], 'rtable': [4, 5]\n",
    "\n",
    "Merge both the tables based of key\n",
    "\n",
    "'''"
   ]
  },
  {
   "cell_type": "code",
   "execution_count": 60,
   "metadata": {},
   "outputs": [
    {
     "data": {
      "text/plain": [
       "0    Amit\n",
       "1     Bob\n",
       "2    Kate\n",
       "3       A\n",
       "4       b\n",
       "5     NaN\n",
       "6     Car\n",
       "7     dog\n",
       "8     cat\n",
       "dtype: object"
      ]
     },
     "execution_count": 60,
     "metadata": {},
     "output_type": "execute_result"
    }
   ],
   "source": [
    "#6.1: From the raw data below create a Pandas Series 'Amit', 'Bob', 'Kate', 'A', 'b', np.nan, 'Car', 'dog', 'cat'\n",
    "\n",
    "import numpy as np\n",
    "\n",
    "data=['Amit', 'Bob', 'Kate', 'A', 'b', np.nan, 'Car', 'dog', 'cat']\n",
    "\n",
    "#data\n",
    "#df\n",
    "\n",
    "df=pd.Series(data)\n",
    "\n",
    "df"
   ]
  },
  {
   "cell_type": "code",
   "execution_count": 61,
   "metadata": {},
   "outputs": [
    {
     "data": {
      "text/plain": [
       "0    amit\n",
       "1     bob\n",
       "2    kate\n",
       "3       a\n",
       "4       b\n",
       "5     NaN\n",
       "6     car\n",
       "7     dog\n",
       "8     cat\n",
       "dtype: object"
      ]
     },
     "execution_count": 61,
     "metadata": {},
     "output_type": "execute_result"
    }
   ],
   "source": [
    "#a) Print all elements in lower case\n",
    "\n",
    "df=pd.Series(data).str.lower()\n",
    "\n",
    "df\n"
   ]
  },
  {
   "cell_type": "code",
   "execution_count": 63,
   "metadata": {},
   "outputs": [
    {
     "data": {
      "text/plain": [
       "0    AMIT\n",
       "1     BOB\n",
       "2    KATE\n",
       "3       A\n",
       "4       B\n",
       "5     NaN\n",
       "6     CAR\n",
       "7     DOG\n",
       "8     CAT\n",
       "dtype: object"
      ]
     },
     "execution_count": 63,
     "metadata": {},
     "output_type": "execute_result"
    }
   ],
   "source": [
    "#b) Print all the elements in upper case \n",
    "\n",
    "df=pd.Series(data).str.upper()\n",
    "\n",
    "df"
   ]
  },
  {
   "cell_type": "code",
   "execution_count": 64,
   "metadata": {},
   "outputs": [
    {
     "data": {
      "text/plain": [
       "0    4.0\n",
       "1    3.0\n",
       "2    4.0\n",
       "3    1.0\n",
       "4    1.0\n",
       "5    NaN\n",
       "6    3.0\n",
       "7    3.0\n",
       "8    3.0\n",
       "dtype: float64"
      ]
     },
     "execution_count": 64,
     "metadata": {},
     "output_type": "execute_result"
    }
   ],
   "source": [
    "#c) Print the length of all the elements\n",
    "\n",
    "df=pd.Series(data).str.len()\n",
    "\n",
    "df"
   ]
  },
  {
   "cell_type": "code",
   "execution_count": 74,
   "metadata": {},
   "outputs": [
    {
     "name": "stdout",
     "output_type": "stream",
     "text": [
      "0    Atul\n",
      "1    John\n",
      "2    jack\n",
      "3     Sam\n",
      "dtype: object\n",
      "0     Atul\n",
      "1     John\n",
      "2     jack\n",
      "3      Sam\n",
      "dtype: object\n",
      "0     Atul\n",
      "1    John \n",
      "2    jack \n",
      "3      Sam\n",
      "dtype: object\n"
     ]
    }
   ],
   "source": [
    "\n",
    "'''\n",
    "6.2: From the raw data below create a Pandas Series\n",
    "' Atul', 'John ', ' jack ', 'Sam'\n",
    "\n",
    "\n",
    "c) Print all the elements after removing spaces from the right only\n",
    "\n",
    "'''\n",
    "\n",
    "# a) Print all elements after stripping spaces from the left and right \n",
    "data=[' Atul', 'John ', ' jack ', 'Sam']\n",
    "\n",
    "df1=pd.Series(data).str.strip()\n",
    "\n",
    "#\n",
    "print(df1)\n",
    "\n",
    "\n",
    "# b) Print all the elements after removing spaces from the left only\n",
    "\n",
    "df2=pd.Series(data).str.rstrip()\n",
    "\n",
    "print(df2)\n",
    "\n",
    "\n",
    "# c) Print all the elements after removing spaces from the right only\n",
    "\n",
    "df3=pd.Series(data).str.lstrip()\n",
    "\n",
    "print(df3)\n"
   ]
  },
  {
   "cell_type": "code",
   "execution_count": 88,
   "metadata": {},
   "outputs": [
    {
     "data": {
      "text/plain": [
       "[['India', 'is', 'big'],\n",
       " ['Population', 'is', 'huge'],\n",
       " ['Has', 'diverse', 'culture']]"
      ]
     },
     "execution_count": 88,
     "metadata": {},
     "output_type": "execute_result"
    }
   ],
   "source": [
    "'''\n",
    "6.3: - Create a series from the raw data below\n",
    "'India_is_big', 'Population_is_huge', np.nan, 'Has_diverse_culture'\n",
    "\n",
    "\n",
    "a) split the individual strings wherever ‘_’ comes and create a list out of it.\n",
    "b) Access the individual element of a list\n",
    "c) Expand the elements so that all individual elements get splitted by ‘_’ and insted\n",
    "of list returns individual elements\n",
    "\n",
    "'''\n",
    "\n",
    "#a) split the individual strings wherever ‘_’ comes and create a list out of it.\n",
    "\n",
    "#data=['India_is_big', 'Population_is_huge', np.nan, 'Has_diverse_culture']\n",
    "\n",
    "data=['India_is_big', 'Population_is_huge', 'Has_diverse_culture']\n",
    "\n",
    "# s2.str.split('_')\n",
    "output_data=[]\n",
    "for i in range(len(data)):\n",
    "    output_data.append(data[i].split('_'))\n",
    "    \n",
    "output_data"
   ]
  },
  {
   "cell_type": "code",
   "execution_count": 90,
   "metadata": {},
   "outputs": [
    {
     "name": "stdout",
     "output_type": "stream",
     "text": [
      "['India', 'is', 'big']\n",
      "['Population', 'is', 'huge']\n",
      "['Has', 'diverse', 'culture']\n"
     ]
    }
   ],
   "source": [
    "# b)Access the individual element of a list\n",
    "# c)Expand the elements so that all individual elements get splitted by _ and insted of list returns individual elements\n",
    "for i in range(len(output_data)):\n",
    "    print(output_data[i])\n"
   ]
  },
  {
   "cell_type": "code",
   "execution_count": 99,
   "metadata": {},
   "outputs": [
    {
     "name": "stdout",
     "output_type": "stream",
     "text": [
      "0            A\n",
      "1            B\n",
      "2            C\n",
      "3    AabXX-XX \n",
      "4    BacXX-XX \n",
      "5             \n",
      "6          NaN\n",
      "7         CABA\n",
      "8       XX-XX \n",
      "9          cat\n",
      "dtype: object\n"
     ]
    }
   ],
   "source": [
    "#6.4: Create a series and replace either X or dog with XX-XX\n",
    "\n",
    "data=['A', 'B', 'C', 'AabX', 'BacX','', np.nan, 'CABA', 'dog', 'cat']\n",
    "\n",
    "df_new=pd.Series(data)\n",
    "\n",
    "#print(df_new.str.replace('^.a|dog', 'XX-XX ', case=False))\n",
    "\n",
    "#df_new1=df_new.str.replace('X', 'XX-XX ', case=False)\n",
    "\n",
    "#df_new1\n",
    "\n",
    "#df_new2=df_new1.str.replace('dog', 'XX-XX ', case=False)\n",
    "\n",
    "#df_new2\n",
    "\n",
    "\n",
    "print(df_new.str.replace('X|dog', 'XX-XX ', case=False))\n"
   ]
  },
  {
   "cell_type": "code",
   "execution_count": 95,
   "metadata": {},
   "outputs": [
    {
     "name": "stdout",
     "output_type": "stream",
     "text": [
      "0        12\n",
      "1       -10\n",
      "2    10,000\n",
      "dtype: object\n"
     ]
    }
   ],
   "source": [
    "#6.5: Create a series and remove dollar from the numeric values '12', '-$10', '$10,000'\n",
    "\n",
    "dollar='12', '-$10', '$10,000'\n",
    "s_dollar=pd.Series(dollar)\n",
    "print(s_dollar.str.replace(r'$', ''))\n"
   ]
  },
  {
   "cell_type": "code",
   "execution_count": 100,
   "metadata": {},
   "outputs": [
    {
     "name": "stdout",
     "output_type": "stream",
     "text": [
      "0     aidni 1998\n",
      "1    gib yrtnuoc\n",
      "2            NaN\n",
      "dtype: object\n"
     ]
    }
   ],
   "source": [
    "#6.6:- Create a series and reverse all lower case words\n",
    "\n",
    "\n",
    "#data=['india 1998', 'big country', np.nan]\n",
    "\n",
    "\n",
    "pat=r'[a-z]+'\n",
    "repl=lambda m: m.group(0)[::-1]\n",
    "s=pd.Series(['india 1998', 'big country', np.nan]).str.replace(pat,repl)\n",
    "print(s)\n",
    "\n"
   ]
  },
  {
   "cell_type": "code",
   "execution_count": 102,
   "metadata": {},
   "outputs": [
    {
     "name": "stdout",
     "output_type": "stream",
     "text": [
      "0     NaN\n",
      "1     NaN\n",
      "2    True\n",
      "3    True\n",
      "4    True\n",
      "dtype: object\n"
     ]
    }
   ],
   "source": [
    "#6.7: Create pandas series and print true if value is alphanumeric in series or false \n",
    "#if value is not alpha numeric in series.\n",
    "\n",
    "s=pd.Series([1, 2, '1a', '2b', '2003c'])\n",
    "print(s.str.isalnum())\n",
    "\n"
   ]
  },
  {
   "cell_type": "code",
   "execution_count": 104,
   "metadata": {},
   "outputs": [
    {
     "name": "stdout",
     "output_type": "stream",
     "text": [
      "0    False\n",
      "1    False\n",
      "2    False\n",
      "3    False\n",
      "4     True\n",
      "5     True\n",
      "6    False\n",
      "7    False\n",
      "dtype: bool\n"
     ]
    }
   ],
   "source": [
    "#6.8: Create pandas series and print true if value is containing ‘A’ \n",
    "\n",
    "#'1', '2', '1a', '2b', 'America', 'VietnAm','vietnam', '2003c'\n",
    "\n",
    "s=pd.Series(['1', '2', '1a', '2b', 'America', 'VietnAm','vietnam', '2003c'])\n",
    "print(s.str.contains('A'))"
   ]
  },
  {
   "cell_type": "code",
   "execution_count": 107,
   "metadata": {},
   "outputs": [
    {
     "name": "stdout",
     "output_type": "stream",
     "text": [
      "   a  b  c\n",
      "0  1  0  0\n",
      "1  1  1  0\n",
      "2  0  0  0\n",
      "3  1  0  1\n"
     ]
    }
   ],
   "source": [
    "#6.9: Create pandas series and print in three columns value 0 or 1 is a or b or c exists in values\n",
    "\n",
    "\n",
    "s=pd.Series(['a', 'a|b', np.nan, 'a|c'])\n",
    "print(s.str.get_dummies(sep='|'))\n",
    "\n"
   ]
  },
  {
   "cell_type": "code",
   "execution_count": 110,
   "metadata": {},
   "outputs": [
    {
     "name": "stdout",
     "output_type": "stream",
     "text": [
      "      key  ltable  rtable\n",
      "0  OneOne     1.0     4.0\n",
      "1  TwoTwo     2.0     5.0\n"
     ]
    }
   ],
   "source": [
    "# 6.10: Create pandas dataframe having keys and ltable and rtable and Merge both the tables based of key\n",
    "ltable={'key': ['One', 'Two'], 'ltable': [1, 2]}\n",
    "rtable={'key': ['One', 'Two'], 'rtable': [4, 5]}\n",
    "df1=pd.DataFrame(data=ltable)\n",
    "df2=pd.DataFrame(data=rtable)\n",
    "df3=df1.add(df2,fill_value=0)\n",
    "print(df3)"
   ]
  },
  {
   "cell_type": "code",
   "execution_count": null,
   "metadata": {},
   "outputs": [],
   "source": []
  }
 ],
 "metadata": {
  "kernelspec": {
   "display_name": "Python 3",
   "language": "python",
   "name": "python3"
  },
  "language_info": {
   "codemirror_mode": {
    "name": "ipython",
    "version": 3
   },
   "file_extension": ".py",
   "mimetype": "text/x-python",
   "name": "python",
   "nbconvert_exporter": "python",
   "pygments_lexer": "ipython3",
   "version": "3.7.0"
  }
 },
 "nbformat": 4,
 "nbformat_minor": 2
}
