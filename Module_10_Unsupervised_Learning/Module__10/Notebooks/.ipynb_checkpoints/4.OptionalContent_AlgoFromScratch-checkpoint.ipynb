{
 "cells": [
  {
   "cell_type": "markdown",
   "metadata": {},
   "source": [
    "# Movie Clustering\n",
    "\n",
    "**NOTE**: This examples is out of course and I am putting it here just for extra reading and also this notebook was not discussed in the live session."
   ]
  },
  {
   "cell_type": "markdown",
   "metadata": {},
   "source": [
    "### building the kMeans algorithm from scratch and not using inbuilt model in sklearn library"
   ]
  },
  {
   "cell_type": "code",
   "execution_count": 1,
   "metadata": {},
   "outputs": [],
   "source": [
    "import numpy as np\n",
    "import pandas as pd\n",
    "import matplotlib.pyplot as plt\n",
    "from copy import deepcopy"
   ]
  },
  {
   "cell_type": "code",
   "execution_count": 2,
   "metadata": {},
   "outputs": [
    {
     "data": {
      "text/html": [
       "<div>\n",
       "<style scoped>\n",
       "    .dataframe tbody tr th:only-of-type {\n",
       "        vertical-align: middle;\n",
       "    }\n",
       "\n",
       "    .dataframe tbody tr th {\n",
       "        vertical-align: top;\n",
       "    }\n",
       "\n",
       "    .dataframe thead th {\n",
       "        text-align: right;\n",
       "    }\n",
       "</style>\n",
       "<table border=\"1\" class=\"dataframe\">\n",
       "  <thead>\n",
       "    <tr style=\"text-align: right;\">\n",
       "      <th></th>\n",
       "      <th>color</th>\n",
       "      <th>director_name</th>\n",
       "      <th>num_critic_for_reviews</th>\n",
       "      <th>duration</th>\n",
       "      <th>director_facebook_likes</th>\n",
       "      <th>actor_3_facebook_likes</th>\n",
       "      <th>actor_2_name</th>\n",
       "      <th>actor_1_facebook_likes</th>\n",
       "      <th>gross</th>\n",
       "      <th>genres</th>\n",
       "      <th>...</th>\n",
       "      <th>num_user_for_reviews</th>\n",
       "      <th>language</th>\n",
       "      <th>country</th>\n",
       "      <th>content_rating</th>\n",
       "      <th>budget</th>\n",
       "      <th>title_year</th>\n",
       "      <th>actor_2_facebook_likes</th>\n",
       "      <th>imdb_score</th>\n",
       "      <th>aspect_ratio</th>\n",
       "      <th>movie_facebook_likes</th>\n",
       "    </tr>\n",
       "  </thead>\n",
       "  <tbody>\n",
       "    <tr>\n",
       "      <th>0</th>\n",
       "      <td>Color</td>\n",
       "      <td>James Cameron</td>\n",
       "      <td>723</td>\n",
       "      <td>178</td>\n",
       "      <td>0</td>\n",
       "      <td>855</td>\n",
       "      <td>Joel David Moore</td>\n",
       "      <td>1000</td>\n",
       "      <td>760505847</td>\n",
       "      <td>Action|Adventure|Fantasy|Sci-Fi</td>\n",
       "      <td>...</td>\n",
       "      <td>3054</td>\n",
       "      <td>English</td>\n",
       "      <td>USA</td>\n",
       "      <td>PG-13</td>\n",
       "      <td>237000000</td>\n",
       "      <td>2009</td>\n",
       "      <td>936</td>\n",
       "      <td>7.9</td>\n",
       "      <td>1.78</td>\n",
       "      <td>33000</td>\n",
       "    </tr>\n",
       "    <tr>\n",
       "      <th>1</th>\n",
       "      <td>Color</td>\n",
       "      <td>Gore Verbinski</td>\n",
       "      <td>302</td>\n",
       "      <td>169</td>\n",
       "      <td>563</td>\n",
       "      <td>1000</td>\n",
       "      <td>Orlando Bloom</td>\n",
       "      <td>40000</td>\n",
       "      <td>309404152</td>\n",
       "      <td>Action|Adventure|Fantasy</td>\n",
       "      <td>...</td>\n",
       "      <td>1238</td>\n",
       "      <td>English</td>\n",
       "      <td>USA</td>\n",
       "      <td>PG-13</td>\n",
       "      <td>300000000</td>\n",
       "      <td>2007</td>\n",
       "      <td>5000</td>\n",
       "      <td>7.1</td>\n",
       "      <td>2.35</td>\n",
       "      <td>0</td>\n",
       "    </tr>\n",
       "    <tr>\n",
       "      <th>2</th>\n",
       "      <td>Color</td>\n",
       "      <td>Sam Mendes</td>\n",
       "      <td>602</td>\n",
       "      <td>148</td>\n",
       "      <td>0</td>\n",
       "      <td>161</td>\n",
       "      <td>Rory Kinnear</td>\n",
       "      <td>11000</td>\n",
       "      <td>200074175</td>\n",
       "      <td>Action|Adventure|Thriller</td>\n",
       "      <td>...</td>\n",
       "      <td>994</td>\n",
       "      <td>English</td>\n",
       "      <td>UK</td>\n",
       "      <td>PG-13</td>\n",
       "      <td>245000000</td>\n",
       "      <td>2015</td>\n",
       "      <td>393</td>\n",
       "      <td>6.8</td>\n",
       "      <td>2.35</td>\n",
       "      <td>85000</td>\n",
       "    </tr>\n",
       "    <tr>\n",
       "      <th>3</th>\n",
       "      <td>Color</td>\n",
       "      <td>Christopher Nolan</td>\n",
       "      <td>813</td>\n",
       "      <td>164</td>\n",
       "      <td>22000</td>\n",
       "      <td>23000</td>\n",
       "      <td>Christian Bale</td>\n",
       "      <td>27000</td>\n",
       "      <td>448130642</td>\n",
       "      <td>Action|Thriller</td>\n",
       "      <td>...</td>\n",
       "      <td>2701</td>\n",
       "      <td>English</td>\n",
       "      <td>USA</td>\n",
       "      <td>PG-13</td>\n",
       "      <td>250000000</td>\n",
       "      <td>2012</td>\n",
       "      <td>23000</td>\n",
       "      <td>8.5</td>\n",
       "      <td>2.35</td>\n",
       "      <td>164000</td>\n",
       "    </tr>\n",
       "    <tr>\n",
       "      <th>4</th>\n",
       "      <td>49</td>\n",
       "      <td>Doug Walker</td>\n",
       "      <td>49</td>\n",
       "      <td>49</td>\n",
       "      <td>131</td>\n",
       "      <td>49</td>\n",
       "      <td>Rob Walker</td>\n",
       "      <td>131</td>\n",
       "      <td>49</td>\n",
       "      <td>Documentary</td>\n",
       "      <td>...</td>\n",
       "      <td>49</td>\n",
       "      <td>49</td>\n",
       "      <td>49</td>\n",
       "      <td>49</td>\n",
       "      <td>49</td>\n",
       "      <td>49</td>\n",
       "      <td>12</td>\n",
       "      <td>7.1</td>\n",
       "      <td>49.00</td>\n",
       "      <td>0</td>\n",
       "    </tr>\n",
       "  </tbody>\n",
       "</table>\n",
       "<p>5 rows × 28 columns</p>\n",
       "</div>"
      ],
      "text/plain": [
       "   color      director_name  num_critic_for_reviews  duration  \\\n",
       "0  Color      James Cameron                     723       178   \n",
       "1  Color     Gore Verbinski                     302       169   \n",
       "2  Color         Sam Mendes                     602       148   \n",
       "3  Color  Christopher Nolan                     813       164   \n",
       "4     49        Doug Walker                      49        49   \n",
       "\n",
       "   director_facebook_likes  actor_3_facebook_likes      actor_2_name  \\\n",
       "0                        0                     855  Joel David Moore   \n",
       "1                      563                    1000     Orlando Bloom   \n",
       "2                        0                     161      Rory Kinnear   \n",
       "3                    22000                   23000    Christian Bale   \n",
       "4                      131                      49        Rob Walker   \n",
       "\n",
       "   actor_1_facebook_likes      gross                           genres  \\\n",
       "0                    1000  760505847  Action|Adventure|Fantasy|Sci-Fi   \n",
       "1                   40000  309404152         Action|Adventure|Fantasy   \n",
       "2                   11000  200074175        Action|Adventure|Thriller   \n",
       "3                   27000  448130642                  Action|Thriller   \n",
       "4                     131         49                      Documentary   \n",
       "\n",
       "          ...          num_user_for_reviews language  country  content_rating  \\\n",
       "0         ...                          3054  English      USA           PG-13   \n",
       "1         ...                          1238  English      USA           PG-13   \n",
       "2         ...                           994  English       UK           PG-13   \n",
       "3         ...                          2701  English      USA           PG-13   \n",
       "4         ...                            49       49       49              49   \n",
       "\n",
       "      budget  title_year actor_2_facebook_likes imdb_score  aspect_ratio  \\\n",
       "0  237000000        2009                    936        7.9          1.78   \n",
       "1  300000000        2007                   5000        7.1          2.35   \n",
       "2  245000000        2015                    393        6.8          2.35   \n",
       "3  250000000        2012                  23000        8.5          2.35   \n",
       "4         49          49                     12        7.1         49.00   \n",
       "\n",
       "  movie_facebook_likes  \n",
       "0                33000  \n",
       "1                    0  \n",
       "2                85000  \n",
       "3               164000  \n",
       "4                    0  \n",
       "\n",
       "[5 rows x 28 columns]"
      ]
     },
     "execution_count": 2,
     "metadata": {},
     "output_type": "execute_result"
    }
   ],
   "source": [
    "# load the data\n",
    "data = pd.read_csv('movie_metadata1.csv')\n",
    "data.head()"
   ]
  },
  {
   "cell_type": "code",
   "execution_count": 3,
   "metadata": {},
   "outputs": [],
   "source": [
    "f1 = data['director_facebook_likes'].values\n",
    "f2 = data['actor_3_facebook_likes'].values"
   ]
  },
  {
   "cell_type": "code",
   "execution_count": 4,
   "metadata": {},
   "outputs": [
    {
     "name": "stdout",
     "output_type": "stream",
     "text": [
      "[  0 563   0 ...   0   0  16]\n",
      "[ 855 1000  161 ...    0  489   16]\n"
     ]
    }
   ],
   "source": [
    "print(f1)\n",
    "print(f2)"
   ]
  },
  {
   "cell_type": "code",
   "execution_count": 5,
   "metadata": {},
   "outputs": [
    {
     "data": {
      "text/plain": [
       "array([[   0,  855],\n",
       "       [ 563, 1000],\n",
       "       [   0,  161],\n",
       "       ...,\n",
       "       [   0,    0],\n",
       "       [   0,  489],\n",
       "       [  16,   16]])"
      ]
     },
     "execution_count": 5,
     "metadata": {},
     "output_type": "execute_result"
    }
   ],
   "source": [
    "X = np.array(list(zip(f1,f2)))\n",
    "X"
   ]
  },
  {
   "cell_type": "code",
   "execution_count": 6,
   "metadata": {},
   "outputs": [
    {
     "data": {
      "text/plain": [
       "Text(0, 0.5, 'Actor 3 facebook likes')"
      ]
     },
     "execution_count": 6,
     "metadata": {},
     "output_type": "execute_result"
    },
    {
     "data": {
      "image/png": "[encoded data removed]",
      "text/plain": [
       "<Figure size 432x288 with 1 Axes>"
      ]
     },
     "metadata": {
      "needs_background": "light"
     },
     "output_type": "display_data"
    }
   ],
   "source": [
    "plt.scatter(f1, f2, c='black', s=50)\n",
    "plt.xlabel('Director facebook likes')\n",
    "plt.ylabel('Actor 3 facebook likes')"
   ]
  },
  {
   "cell_type": "code",
   "execution_count": 7,
   "metadata": {},
   "outputs": [
    {
     "data": {
      "text/plain": [
       "23000"
      ]
     },
     "execution_count": 7,
     "metadata": {},
     "output_type": "execute_result"
    }
   ],
   "source": [
    "np.max(X)"
   ]
  },
  {
   "cell_type": "code",
   "execution_count": 8,
   "metadata": {},
   "outputs": [
    {
     "data": {
      "text/plain": [
       "array([[21322.,  7306.],\n",
       "       [20186.,  4077.],\n",
       "       [ 9342.,   137.],\n",
       "       [18172., 16567.],\n",
       "       [21980., 18685.]], dtype=float32)"
      ]
     },
     "execution_count": 8,
     "metadata": {},
     "output_type": "execute_result"
    }
   ],
   "source": [
    "# Euclidean distance calculator\n",
    "def dist(a,b, ax=1):\n",
    "    return np.linalg.norm(a-b, axis=ax)\n",
    "\n",
    "k = 5\n",
    "# KMeans\n",
    "# step1 : randomly choosing centroids\n",
    "\n",
    "C_x = np.random.randint(0, np.max(X)-20, size=k)\n",
    "C_y = np.random.randint(0, np.max(X)-20, size=k)\n",
    "C = np.array(list(zip(C_x, C_y)), dtype=np.float32)\n",
    "C  # random centroid co-ordinates"
   ]
  },
  {
   "cell_type": "code",
   "execution_count": 9,
   "metadata": {
    "scrolled": true
   },
   "outputs": [
    {
     "data": {
      "text/plain": [
       "Text(0, 0.5, 'Actor 3 facebook likes')"
      ]
     },
     "execution_count": 9,
     "metadata": {},
     "output_type": "execute_result"
    },
    {
     "data": {
      "image/png": "[encoded data removed]",
      "text/plain": [
       "<Figure size 432x288 with 1 Axes>"
      ]
     },
     "metadata": {
      "needs_background": "light"
     },
     "output_type": "display_data"
    }
   ],
   "source": [
    "plt.scatter(f1, f2, c='black', s=50)\n",
    "plt.scatter(C_x, C_y, marker='*', s=200, c='g')\n",
    "plt.xlabel('Director facebook likes')\n",
    "plt.ylabel('Actor 3 facebook likes')"
   ]
  },
  {
   "cell_type": "code",
   "execution_count": 10,
   "metadata": {},
   "outputs": [
    {
     "name": "stdout",
     "output_type": "stream",
     "text": [
      "######\n",
      "49561.37887508781\n",
      "<class 'numpy.float64'>\n",
      "[ 2137.7004  4408.7334  8944.593  12235.713   2981.7332]\n",
      "[2878.2712  3062.1487   289.02057 6058.6416     0.     ]\n",
      "[2913.2317      0.         28.234844 1190.9127      0.      ]\n",
      "[  0.          0.          2.3362365 120.624756    0.       ]\n",
      "[0. 0. 0. 0. 0.]\n"
     ]
    },
    {
     "data": {
      "text/plain": [
       "<matplotlib.collections.PathCollection at 0x121c32b38>"
      ]
     },
     "execution_count": 10,
     "metadata": {},
     "output_type": "execute_result"
    },
    {
     "data": {
      "image/png": "[encoded data removed]",
      "text/plain": [
       "<Figure size 432x288 with 1 Axes>"
      ]
     },
     "metadata": {
      "needs_background": "light"
     },
     "output_type": "display_data"
    }
   ],
   "source": [
    "# to store the values of centroids when it updates\n",
    "C_old = np.zeros(C.shape)\n",
    "\n",
    "clusters = np.zeros(len(X))\n",
    "\n",
    "# error is the distance between new and old centroid\n",
    "error = dist(C, C_old, None)\n",
    "print(\"######\")\n",
    "print(error)\n",
    "print(type(error))\n",
    "\n",
    "while error.any() != 0:\n",
    "    # assigning each value/point to closest cluster\n",
    "    for i in range(len(X)):\n",
    "        distances = dist(X[i], C)\n",
    "        cluster = np.argmin(distances)\n",
    "        clusters[i] = cluster\n",
    "    \n",
    "    # storing the old centroid value\n",
    "    C_old = deepcopy(C)\n",
    "    # find new centroids by taking the average value\n",
    "    for i in range(k):\n",
    "        points = [X[j] for j in range(len(X)) if clusters[j] == i]\n",
    "        C[i] = np.mean(points, axis=0)\n",
    "    error = dist(C, C_old)\n",
    "    print(error)\n",
    "\n",
    "colors = ['r', 'g', 'b', 'y', 'c', 'm']\n",
    "fig, ax = plt.subplots()\n",
    "for i in range(k):\n",
    "        points = np.array([X[j] for j in range(len(X)) if clusters[j] == i])\n",
    "        ax.scatter(points[:, 0], points[:, 1], s=7, c=colors[i])\n",
    "ax.scatter(C[:, 0], C[:, 1], marker='*', s=200, c='#050505')"
   ]
  },
  {
   "cell_type": "code",
   "execution_count": null,
   "metadata": {},
   "outputs": [],
   "source": []
  }
 ],
 "metadata": {
  "kernelspec": {
   "display_name": "Python 3",
   "language": "python",
   "name": "python3"
  },
  "language_info": {
   "codemirror_mode": {
    "name": "ipython",
    "version": 3
   },
   "file_extension": ".py",
   "mimetype": "text/x-python",
   "name": "python",
   "nbconvert_exporter": "python",
   "pygments_lexer": "ipython3",
   "version": "3.7.4"
  }
 },
 "nbformat": 4,
 "nbformat_minor": 2
}
