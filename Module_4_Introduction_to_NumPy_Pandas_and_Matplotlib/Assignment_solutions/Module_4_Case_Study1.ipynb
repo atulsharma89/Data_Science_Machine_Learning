{
 "cells": [
  {
   "cell_type": "code",
   "execution_count": null,
   "metadata": {},
   "outputs": [],
   "source": [
    "1. Extract data from the given SalaryGender CSV file and store the data \n",
    "from each column in a separate NumPy array\n"
   ]
  },
  {
   "cell_type": "code",
   "execution_count": 26,
   "metadata": {},
   "outputs": [
    {
     "ename": "AttributeError",
     "evalue": "'numpy.ndarray' object has no attribute 'count'",
     "output_type": "error",
     "traceback": [
      "\u001b[0;31m---------------------------------------------------------------------------\u001b[0m",
      "\u001b[0;31mAttributeError\u001b[0m                            Traceback (most recent call last)",
      "\u001b[0;32m<ipython-input-26-952c54e4edbc>\u001b[0m in \u001b[0;36m<module>\u001b[0;34m()\u001b[0m\n\u001b[1;32m     18\u001b[0m \u001b[0;34m\u001b[0m\u001b[0m\n\u001b[1;32m     19\u001b[0m \u001b[0;34m\u001b[0m\u001b[0m\n\u001b[0;32m---> 20\u001b[0;31m \u001b[0msalary\u001b[0m\u001b[0;34m.\u001b[0m\u001b[0mcount\u001b[0m\u001b[0;34m(\u001b[0m\u001b[0;34m)\u001b[0m\u001b[0;34m\u001b[0m\u001b[0m\n\u001b[0m",
      "\u001b[0;31mAttributeError\u001b[0m: 'numpy.ndarray' object has no attribute 'count'"
     ]
    }
   ],
   "source": [
    "import pandas as pd\n",
    "import numpy as np\n",
    "\n",
    "#data=pd.read_csv('/Users/atul595525/Desktop/learning/Edureka_courses/Python_For_Data_Science/Class_4_Introduction_to_NumPy_Pandas_and_Matplotlib/574_m4_datasets_v3.0/SalaryGender.csv')\n",
    "\n",
    "#data.head(5)\n",
    "\n",
    "np.load\n",
    "\n",
    "data=np.genfromtxt('/Users/atul595525/Desktop/learning/Edureka_courses/Python_For_Data_Science/Class_4_Introduction_to_NumPy_Pandas_and_Matplotlib/574_m4_datasets_v3.0/SalaryGender.csv', delimiter=',', names=True)\n",
    "\n",
    "data\n",
    "\n",
    "salary= data['Salary']\n",
    "gender=data['Gender']\n",
    "age=data['Age']\n",
    "phD=data['PhD']\n",
    "\n",
    "\n",
    "\n",
    "\n"
   ]
  },
  {
   "cell_type": "code",
   "execution_count": 27,
   "metadata": {},
   "outputs": [
    {
     "ename": "SyntaxError",
     "evalue": "invalid syntax (<ipython-input-27-479b43f227e2>, line 1)",
     "output_type": "error",
     "traceback": [
      "\u001b[0;36m  File \u001b[0;32m\"<ipython-input-27-479b43f227e2>\"\u001b[0;36m, line \u001b[0;32m1\u001b[0m\n\u001b[0;31m    2. Find:\u001b[0m\n\u001b[0m          ^\u001b[0m\n\u001b[0;31mSyntaxError\u001b[0m\u001b[0;31m:\u001b[0m invalid syntax\n"
     ]
    }
   ],
   "source": [
    "2. Find:\n",
    "1. The number of men with a PhD\n",
    "2. The number of women with a PhD\n",
    "\n",
    "\n",
    "\n"
   ]
  },
  {
   "cell_type": "code",
   "execution_count": 43,
   "metadata": {},
   "outputs": [
    {
     "data": {
      "text/plain": [
       "Salary    24\n",
       "Gender    24\n",
       "Age       24\n",
       "PhD       24\n",
       "dtype: int64"
      ]
     },
     "execution_count": 43,
     "metadata": {},
     "output_type": "execute_result"
    }
   ],
   "source": [
    "# 1. The number of men with a PhD\n",
    "df = pd.DataFrame(data)\n",
    "\n",
    "df.head()\n",
    "\n",
    "\n",
    "df_men_With_phd = df[(df['Gender']==1) & (df['PhD']==1)]\n",
    "\n",
    "df_men_With_phd.count()\n"
   ]
  },
  {
   "cell_type": "code",
   "execution_count": 44,
   "metadata": {},
   "outputs": [
    {
     "data": {
      "text/plain": [
       "Salary    15\n",
       "Gender    15\n",
       "Age       15\n",
       "PhD       15\n",
       "dtype: int64"
      ]
     },
     "execution_count": 44,
     "metadata": {},
     "output_type": "execute_result"
    }
   ],
   "source": [
    "#2. The number of women with a PhD\n",
    "\n",
    "df = pd.DataFrame(data)\n",
    "\n",
    "df.head()\n",
    "\n",
    "\n",
    "\n",
    "df_woman_With_phd = df[(df['Gender']==0) & (df['PhD']==1)]\n",
    "\n",
    "df_woman_With_phd.head(5)\n",
    "\n",
    "df_woman_With_phd.count()\n",
    "\n"
   ]
  },
  {
   "cell_type": "code",
   "execution_count": 45,
   "metadata": {},
   "outputs": [
    {
     "data": {
      "text/plain": [
       "Salary    100\n",
       "Gender    100\n",
       "Age       100\n",
       "PhD       100\n",
       "dtype: int64"
      ]
     },
     "execution_count": 45,
     "metadata": {},
     "output_type": "execute_result"
    }
   ],
   "source": [
    "df.count()"
   ]
  },
  {
   "cell_type": "code",
   "execution_count": 52,
   "metadata": {},
   "outputs": [
    {
     "name": "stderr",
     "output_type": "stream",
     "text": [
      "/Users/atul595525/anaconda3/lib/python3.7/site-packages/pandas/core/frame.py:3697: SettingWithCopyWarning: \n",
      "A value is trying to be set on a copy of a slice from a DataFrame\n",
      "\n",
      "See the caveats in the documentation: http://pandas.pydata.org/pandas-docs/stable/indexing.html#indexing-view-versus-copy\n",
      "  errors=errors)\n"
     ]
    },
    {
     "data": {
      "text/html": [
       "<div>\n",
       "<style scoped>\n",
       "    .dataframe tbody tr th:only-of-type {\n",
       "        vertical-align: middle;\n",
       "    }\n",
       "\n",
       "    .dataframe tbody tr th {\n",
       "        vertical-align: top;\n",
       "    }\n",
       "\n",
       "    .dataframe thead th {\n",
       "        text-align: right;\n",
       "    }\n",
       "</style>\n",
       "<table border=\"1\" class=\"dataframe\">\n",
       "  <thead>\n",
       "    <tr style=\"text-align: right;\">\n",
       "      <th></th>\n",
       "      <th>Age</th>\n",
       "      <th>PhD</th>\n",
       "    </tr>\n",
       "  </thead>\n",
       "  <tbody>\n",
       "    <tr>\n",
       "      <th>0</th>\n",
       "      <td>47.0</td>\n",
       "      <td>1.0</td>\n",
       "    </tr>\n",
       "    <tr>\n",
       "      <th>1</th>\n",
       "      <td>65.0</td>\n",
       "      <td>1.0</td>\n",
       "    </tr>\n",
       "    <tr>\n",
       "      <th>4</th>\n",
       "      <td>53.0</td>\n",
       "      <td>1.0</td>\n",
       "    </tr>\n",
       "    <tr>\n",
       "      <th>8</th>\n",
       "      <td>44.0</td>\n",
       "      <td>1.0</td>\n",
       "    </tr>\n",
       "    <tr>\n",
       "      <th>9</th>\n",
       "      <td>63.0</td>\n",
       "      <td>1.0</td>\n",
       "    </tr>\n",
       "    <tr>\n",
       "      <th>12</th>\n",
       "      <td>60.0</td>\n",
       "      <td>1.0</td>\n",
       "    </tr>\n",
       "    <tr>\n",
       "      <th>17</th>\n",
       "      <td>47.0</td>\n",
       "      <td>1.0</td>\n",
       "    </tr>\n",
       "    <tr>\n",
       "      <th>18</th>\n",
       "      <td>66.0</td>\n",
       "      <td>1.0</td>\n",
       "    </tr>\n",
       "    <tr>\n",
       "      <th>19</th>\n",
       "      <td>45.0</td>\n",
       "      <td>1.0</td>\n",
       "    </tr>\n",
       "    <tr>\n",
       "      <th>25</th>\n",
       "      <td>66.0</td>\n",
       "      <td>1.0</td>\n",
       "    </tr>\n",
       "    <tr>\n",
       "      <th>26</th>\n",
       "      <td>36.0</td>\n",
       "      <td>1.0</td>\n",
       "    </tr>\n",
       "    <tr>\n",
       "      <th>28</th>\n",
       "      <td>51.0</td>\n",
       "      <td>1.0</td>\n",
       "    </tr>\n",
       "    <tr>\n",
       "      <th>29</th>\n",
       "      <td>65.0</td>\n",
       "      <td>1.0</td>\n",
       "    </tr>\n",
       "    <tr>\n",
       "      <th>30</th>\n",
       "      <td>45.0</td>\n",
       "      <td>1.0</td>\n",
       "    </tr>\n",
       "    <tr>\n",
       "      <th>31</th>\n",
       "      <td>52.0</td>\n",
       "      <td>1.0</td>\n",
       "    </tr>\n",
       "    <tr>\n",
       "      <th>32</th>\n",
       "      <td>54.0</td>\n",
       "      <td>1.0</td>\n",
       "    </tr>\n",
       "    <tr>\n",
       "      <th>38</th>\n",
       "      <td>34.0</td>\n",
       "      <td>1.0</td>\n",
       "    </tr>\n",
       "    <tr>\n",
       "      <th>41</th>\n",
       "      <td>58.0</td>\n",
       "      <td>1.0</td>\n",
       "    </tr>\n",
       "    <tr>\n",
       "      <th>42</th>\n",
       "      <td>77.0</td>\n",
       "      <td>1.0</td>\n",
       "    </tr>\n",
       "    <tr>\n",
       "      <th>45</th>\n",
       "      <td>48.0</td>\n",
       "      <td>1.0</td>\n",
       "    </tr>\n",
       "    <tr>\n",
       "      <th>47</th>\n",
       "      <td>49.0</td>\n",
       "      <td>1.0</td>\n",
       "    </tr>\n",
       "    <tr>\n",
       "      <th>49</th>\n",
       "      <td>65.0</td>\n",
       "      <td>1.0</td>\n",
       "    </tr>\n",
       "    <tr>\n",
       "      <th>54</th>\n",
       "      <td>49.0</td>\n",
       "      <td>1.0</td>\n",
       "    </tr>\n",
       "    <tr>\n",
       "      <th>56</th>\n",
       "      <td>61.0</td>\n",
       "      <td>1.0</td>\n",
       "    </tr>\n",
       "    <tr>\n",
       "      <th>57</th>\n",
       "      <td>43.0</td>\n",
       "      <td>1.0</td>\n",
       "    </tr>\n",
       "    <tr>\n",
       "      <th>60</th>\n",
       "      <td>66.0</td>\n",
       "      <td>1.0</td>\n",
       "    </tr>\n",
       "    <tr>\n",
       "      <th>63</th>\n",
       "      <td>56.0</td>\n",
       "      <td>1.0</td>\n",
       "    </tr>\n",
       "    <tr>\n",
       "      <th>73</th>\n",
       "      <td>71.0</td>\n",
       "      <td>1.0</td>\n",
       "    </tr>\n",
       "    <tr>\n",
       "      <th>76</th>\n",
       "      <td>69.0</td>\n",
       "      <td>1.0</td>\n",
       "    </tr>\n",
       "    <tr>\n",
       "      <th>77</th>\n",
       "      <td>58.0</td>\n",
       "      <td>1.0</td>\n",
       "    </tr>\n",
       "    <tr>\n",
       "      <th>79</th>\n",
       "      <td>32.0</td>\n",
       "      <td>1.0</td>\n",
       "    </tr>\n",
       "    <tr>\n",
       "      <th>80</th>\n",
       "      <td>33.0</td>\n",
       "      <td>1.0</td>\n",
       "    </tr>\n",
       "    <tr>\n",
       "      <th>81</th>\n",
       "      <td>32.0</td>\n",
       "      <td>1.0</td>\n",
       "    </tr>\n",
       "    <tr>\n",
       "      <th>87</th>\n",
       "      <td>42.0</td>\n",
       "      <td>1.0</td>\n",
       "    </tr>\n",
       "    <tr>\n",
       "      <th>89</th>\n",
       "      <td>51.0</td>\n",
       "      <td>1.0</td>\n",
       "    </tr>\n",
       "    <tr>\n",
       "      <th>90</th>\n",
       "      <td>71.0</td>\n",
       "      <td>1.0</td>\n",
       "    </tr>\n",
       "    <tr>\n",
       "      <th>92</th>\n",
       "      <td>55.0</td>\n",
       "      <td>1.0</td>\n",
       "    </tr>\n",
       "    <tr>\n",
       "      <th>94</th>\n",
       "      <td>55.0</td>\n",
       "      <td>1.0</td>\n",
       "    </tr>\n",
       "    <tr>\n",
       "      <th>96</th>\n",
       "      <td>56.0</td>\n",
       "      <td>1.0</td>\n",
       "    </tr>\n",
       "  </tbody>\n",
       "</table>\n",
       "</div>"
      ],
      "text/plain": [
       "     Age  PhD\n",
       "0   47.0  1.0\n",
       "1   65.0  1.0\n",
       "4   53.0  1.0\n",
       "8   44.0  1.0\n",
       "9   63.0  1.0\n",
       "12  60.0  1.0\n",
       "17  47.0  1.0\n",
       "18  66.0  1.0\n",
       "19  45.0  1.0\n",
       "25  66.0  1.0\n",
       "26  36.0  1.0\n",
       "28  51.0  1.0\n",
       "29  65.0  1.0\n",
       "30  45.0  1.0\n",
       "31  52.0  1.0\n",
       "32  54.0  1.0\n",
       "38  34.0  1.0\n",
       "41  58.0  1.0\n",
       "42  77.0  1.0\n",
       "45  48.0  1.0\n",
       "47  49.0  1.0\n",
       "49  65.0  1.0\n",
       "54  49.0  1.0\n",
       "56  61.0  1.0\n",
       "57  43.0  1.0\n",
       "60  66.0  1.0\n",
       "63  56.0  1.0\n",
       "73  71.0  1.0\n",
       "76  69.0  1.0\n",
       "77  58.0  1.0\n",
       "79  32.0  1.0\n",
       "80  33.0  1.0\n",
       "81  32.0  1.0\n",
       "87  42.0  1.0\n",
       "89  51.0  1.0\n",
       "90  71.0  1.0\n",
       "92  55.0  1.0\n",
       "94  55.0  1.0\n",
       "96  56.0  1.0"
      ]
     },
     "execution_count": 52,
     "metadata": {},
     "output_type": "execute_result"
    }
   ],
   "source": [
    "#3. Use SalaryGender CSV file. Store the “Age” and “PhD” columns in one DataFrame \n",
    "#and delete the data of all people who don’t have a PhD\n",
    "\n",
    "df_new=df[['Age','PhD']]\n",
    "\n",
    "df_new.head(5)\n",
    "\n",
    "#df_new[df_new['PhD'] ==0]\n",
    "\n",
    "df_new\n",
    "\n",
    "\n",
    "# Get names of indexes for which column Age has value 30\n",
    "indexNames = df_new[ df_new['PhD'] == 0 ].index\n",
    "\n",
    "#indexNames\n",
    " \n",
    "# Delete these row indexes from dataFrame\n",
    "df_new.drop(indexNames , inplace=True)\n",
    "\n",
    "df_new\n",
    "\n"
   ]
  },
  {
   "cell_type": "code",
   "execution_count": null,
   "metadata": {},
   "outputs": [],
   "source": [
    "4. Calculate the total number of people who have a PhD degree from SalaryGender CSV file."
   ]
  },
  {
   "cell_type": "code",
   "execution_count": 59,
   "metadata": {},
   "outputs": [
    {
     "data": {
      "text/plain": [
       "Salary    39\n",
       "Gender    39\n",
       "Age       39\n",
       "PhD       39\n",
       "dtype: int64"
      ]
     },
     "execution_count": 59,
     "metadata": {},
     "output_type": "execute_result"
    }
   ],
   "source": [
    "df_phd=df[df['PhD']==1]\n",
    "\n",
    "df_phd.count()"
   ]
  },
  {
   "cell_type": "code",
   "execution_count": null,
   "metadata": {},
   "outputs": [],
   "source": [
    "5. How do you Count The Number Of Times Each Value Appears In An Array Of Integers?\n",
    "[0, 5, 4, 0, 4, 4, 3, 0, 0, 5, 2, 1, 1, 9]\n",
    "\n",
    "Answer should be array([4, 2, 1, 1, 3, 2, 0, 0, 0, 1]) which means 0 comes 4 times, 1 comes 2 times,\n",
    "2 comes 1 time, 3 comes 1 time and so on."
   ]
  },
  {
   "cell_type": "code",
   "execution_count": 67,
   "metadata": {},
   "outputs": [
    {
     "data": {
      "text/plain": [
       "array([9, 5, 5, 4, 4, 4, 3, 2, 1, 1, 0, 0, 0, 0])"
      ]
     },
     "execution_count": 67,
     "metadata": {},
     "output_type": "execute_result"
    }
   ],
   "source": [
    "data= [0, 5, 4, 0, 4, 4, 3, 0, 0, 5, 2, 1, 1, 9]\n",
    "\n",
    "import numpy as np\n",
    "\n",
    "x=np.asarray(sorted(data,reverse=True))\n",
    "\n",
    "x\n",
    "\n"
   ]
  },
  {
   "cell_type": "code",
   "execution_count": null,
   "metadata": {},
   "outputs": [],
   "source": [
    "6. Create a numpy array [[0, 1, 2], [ 3, 4, 5], [ 6, 7, 8],[ 9, 10, 11]]) and filter the elements greater than 5."
   ]
  },
  {
   "cell_type": "code",
   "execution_count": 75,
   "metadata": {},
   "outputs": [
    {
     "data": {
      "text/plain": [
       "[6, 7, 8, 9, 10, 11]"
      ]
     },
     "execution_count": 75,
     "metadata": {},
     "output_type": "execute_result"
    }
   ],
   "source": [
    "import numpy as np\n",
    "\n",
    "data_6=np.asarray([[0, 1, 2], [ 3, 4, 5], [ 6, 7, 8],[ 9, 10, 11]])\n",
    "data_6.ndim\n",
    "\n",
    "#2\n",
    "\n",
    "data_6.shape\n",
    "\n",
    "#(4, 3)\n",
    "\n",
    "data_6\n",
    "\n",
    "#reshaping array\n",
    "\n",
    "data_6_rshp=data_6.ravel()\n",
    "\n",
    "data_6_rshp\n",
    "\n",
    "\n",
    "new_elem=[]\n",
    "for elem in data_6_rshp:\n",
    "    if elem>5:\n",
    "        new_elem.append(elem)\n",
    "\n",
    "new_elem"
   ]
  },
  {
   "cell_type": "code",
   "execution_count": null,
   "metadata": {},
   "outputs": [],
   "source": [
    "7. Create a numpy array having NaN (Not a Number) and print it. array([ nan, 1., 2., nan, 3., 4., 5.])\n",
    "Print the same array omitting all elements which are nan\n"
   ]
  },
  {
   "cell_type": "code",
   "execution_count": 84,
   "metadata": {},
   "outputs": [
    {
     "name": "stdout",
     "output_type": "stream",
     "text": [
      "[nan  1.  2. nan  3.  4.  5.]\n",
      "[1. 2. 3. 4. 5.]\n"
     ]
    }
   ],
   "source": [
    "#an_array = np.empty((3,3))\n",
    "#an_array[:] = np.NaN\n",
    "#print(an_array)\n",
    "\n",
    "\n",
    "import numpy\n",
    "a = numpy.array([numpy.nan, 1,2,numpy.nan,3,4,5])\n",
    "print(a)\n",
    "print(a[~numpy.isnan(a)])\n"
   ]
  },
  {
   "cell_type": "code",
   "execution_count": null,
   "metadata": {},
   "outputs": [],
   "source": [
    "8. Create a 10x10 array with random values and find the minimum and maximum values.\n"
   ]
  },
  {
   "cell_type": "code",
   "execution_count": 89,
   "metadata": {},
   "outputs": [
    {
     "name": "stdout",
     "output_type": "stream",
     "text": [
      "[[  6  54  55  22  86  64  94  81  53  73]\n",
      " [ 26  22  77  92  10  23  57   3  96  54]\n",
      " [ 62  51  94  65  49  96  10  13  85  43]\n",
      " [ 36  96  97  51  22  25  36   5  18  67]\n",
      " [100  83  25  36  32   2  91 100  62  80]\n",
      " [ 44  26  70  35  92  48  85   3  95  27]\n",
      " [  7  59  71  19  24  50  16   6  66  87]\n",
      " [ 94   5  95  52  70  52  55  50  84  46]\n",
      " [ 33  78  67   7  57   4  44   9  20  36]\n",
      " [ 98  99  22  28  61  88  43  61  49  96]]\n",
      "100\n",
      "2\n"
     ]
    }
   ],
   "source": [
    "ary=np.random.randint(101, size=(10, 10))\n",
    "\n",
    "print(ary)\n",
    "print(np.amax(ary))\n",
    "\n",
    "print(np.amin(ary))\n"
   ]
  },
  {
   "cell_type": "code",
   "execution_count": null,
   "metadata": {},
   "outputs": [],
   "source": [
    "9. Create a random vector of size 30 and find the mean value."
   ]
  },
  {
   "cell_type": "code",
   "execution_count": 91,
   "metadata": {},
   "outputs": [
    {
     "name": "stdout",
     "output_type": "stream",
     "text": [
      "Original array:\n",
      "[0.84481663 0.4927197  0.08840961 0.51911758 0.79105419 0.59089954\n",
      " 0.34606271 0.01122453 0.62697161 0.02117047 0.91267398 0.71932302\n",
      " 0.76226078 0.99754283 0.98355358 0.26252683 0.45745253 0.08554855\n",
      " 0.76717561 0.47233347 0.09301565 0.84617644 0.32264639 0.14936489\n",
      " 0.38201414 0.13562889 0.11886237 0.68813257 0.72829557 0.05408069]\n",
      "0.4757018447044692\n"
     ]
    }
   ],
   "source": [
    "import numpy as np\n",
    "x = np.random.random(30)\n",
    "print(\"Original array:\")\n",
    "print(x)\n",
    "\n",
    "\n",
    "print(np.mean(x))\n",
    "\n",
    "\n"
   ]
  },
  {
   "cell_type": "code",
   "execution_count": null,
   "metadata": {},
   "outputs": [],
   "source": [
    "10. Create numpy array having elements 0 to 10 And negate all the elements between 3 and 9\n"
   ]
  },
  {
   "cell_type": "code",
   "execution_count": 98,
   "metadata": {},
   "outputs": [
    {
     "name": "stdout",
     "output_type": "stream",
     "text": [
      "[ 0  1  2  3  4  5  6  7  8  9 10]\n",
      "[ 0  1  2 -3 -4 -5 -6 -7 -8 -9 10]\n"
     ]
    }
   ],
   "source": [
    "ary1=np.arange(11, dtype=int)\n",
    "\n",
    "print(ary1)\n",
    "\n",
    "c=np.where((ary1>2) & (ary1<10) ,ary1*-1,ary1)\n",
    "\n",
    "print(c)"
   ]
  },
  {
   "cell_type": "code",
   "execution_count": 99,
   "metadata": {},
   "outputs": [
    {
     "name": "stdout",
     "output_type": "stream",
     "text": [
      "[ 0  1  2 -3 -4 -5 -6 -7 -8  9 10]\n"
     ]
    }
   ],
   "source": [
    "0\n",
    "\n",
    "import numpy as np\n",
    "\n",
    "arr = np.arange(11)\n",
    "\n",
    "arr[3:9] = np.multiply(arr[3:9],-1)\n",
    "\n",
    "print(arr)"
   ]
  },
  {
   "cell_type": "code",
   "execution_count": null,
   "metadata": {},
   "outputs": [],
   "source": [
    "11. Create a random array of 3 rows and 3 columns and sort it according to 1st column, 2nd column or 3rd column.\n"
   ]
  },
  {
   "cell_type": "code",
   "execution_count": 115,
   "metadata": {},
   "outputs": [
    {
     "name": "stdout",
     "output_type": "stream",
     "text": [
      "[[8 9 1]\n",
      " [6 5 7]\n",
      " [1 3 1]]\n",
      "[[1 3 1]\n",
      " [6 5 7]\n",
      " [8 9 1]]\n"
     ]
    }
   ],
   "source": [
    "#Use the syntax array[:, j - 1] to extract the j-th column of an array. \n",
    "#Call numpy.argsort(a) to return the sorted indices of the column a. Then use these sorted \n",
    "#indices to sort the rows of the same array by column a.\n",
    "#numpy.argsort()\n",
    "\n",
    "#mat = np.array([[1,21,3],[5,4,2],[56,12,4]])\n",
    "#mat_sort = mat[mat[:,2].argsort()]\n",
    "#print(mat_sort)\n",
    "\n",
    "#sorted_array = random_matrix_array[numpy.argsort(random_matrix_array[:, 0])]\n",
    "import numpy as np\n",
    "random_matrix_array = np.random.randint(1,10,size=(3,3))\n",
    "print(random_matrix_array)\n",
    "sorted_array = random_matrix_array[random_matrix_array[:,1].argsort()]\n",
    "print(sorted_array)"
   ]
  },
  {
   "cell_type": "code",
   "execution_count": 108,
   "metadata": {},
   "outputs": [
    {
     "ename": "SyntaxError",
     "evalue": "invalid syntax (<ipython-input-108-4d4d083aac99>, line 1)",
     "output_type": "error",
     "traceback": [
      "\u001b[0;36m  File \u001b[0;32m\"<ipython-input-108-4d4d083aac99>\"\u001b[0;36m, line \u001b[0;32m1\u001b[0m\n\u001b[0;31m    12. Create a four dimensions array get sum over the last two axis at once.\u001b[0m\n\u001b[0m             ^\u001b[0m\n\u001b[0;31mSyntaxError\u001b[0m\u001b[0;31m:\u001b[0m invalid syntax\n"
     ]
    }
   ],
   "source": [
    "12. Create a four dimensions array get sum over the last two axis at once. "
   ]
  },
  {
   "cell_type": "code",
   "execution_count": 125,
   "metadata": {},
   "outputs": [
    {
     "ename": "ValueError",
     "evalue": "cannot reshape array of size 64 into shape (4,2,4)",
     "output_type": "error",
     "traceback": [
      "\u001b[0;31m---------------------------------------------------------------------------\u001b[0m",
      "\u001b[0;31mValueError\u001b[0m                                Traceback (most recent call last)",
      "\u001b[0;32m<ipython-input-125-2cf0338a91ea>\u001b[0m in \u001b[0;36m<module>\u001b[0;34m()\u001b[0m\n\u001b[1;32m      3\u001b[0m \u001b[0;31m#print(random_matrix_array)\u001b[0m\u001b[0;34m\u001b[0m\u001b[0;34m\u001b[0m\u001b[0m\n\u001b[1;32m      4\u001b[0m \u001b[0;34m\u001b[0m\u001b[0m\n\u001b[0;32m----> 5\u001b[0;31m \u001b[0marray_4D\u001b[0m \u001b[0;34m=\u001b[0m \u001b[0mnp\u001b[0m\u001b[0;34m.\u001b[0m\u001b[0marange\u001b[0m\u001b[0;34m(\u001b[0m\u001b[0;36m64\u001b[0m\u001b[0;34m)\u001b[0m\u001b[0;34m.\u001b[0m\u001b[0mreshape\u001b[0m\u001b[0;34m(\u001b[0m\u001b[0;36m4\u001b[0m\u001b[0;34m,\u001b[0m\u001b[0;36m2\u001b[0m\u001b[0;34m,\u001b[0m\u001b[0;36m4\u001b[0m\u001b[0;34m)\u001b[0m\u001b[0;34m\u001b[0m\u001b[0m\n\u001b[0m\u001b[1;32m      6\u001b[0m \u001b[0;34m\u001b[0m\u001b[0m\n\u001b[1;32m      7\u001b[0m \u001b[0mprint\u001b[0m\u001b[0;34m(\u001b[0m\u001b[0marray_4D\u001b[0m\u001b[0;34m)\u001b[0m\u001b[0;34m\u001b[0m\u001b[0m\n",
      "\u001b[0;31mValueError\u001b[0m: cannot reshape array of size 64 into shape (4,2,4)"
     ]
    }
   ],
   "source": [
    "import numpy as np\n",
    "#random_matrix_array2 = np.random.randint(1,10,size=(3))\n",
    "#print(random_matrix_array)\n",
    "\n",
    "array_4D = np.arange(64).reshape(4,2,4)\n",
    "\n",
    "print(array_4D)\n",
    "\n",
    "print(array_4D.ndim)"
   ]
  },
  {
   "cell_type": "code",
   "execution_count": null,
   "metadata": {},
   "outputs": [],
   "source": [
    "13. Create a random array and swap two rows of an array."
   ]
  },
  {
   "cell_type": "code",
   "execution_count": 127,
   "metadata": {},
   "outputs": [
    {
     "data": {
      "text/plain": [
       "array([[4, 3, 1],\n",
       "       [5, 7, 0],\n",
       "       [9, 9, 3],\n",
       "       [8, 2, 4]])"
      ]
     },
     "execution_count": 127,
     "metadata": {},
     "output_type": "execute_result"
    }
   ],
   "source": [
    "a = np.array([[4,3,1], [5,7,0], [9,9,3], [8,2,4]])\n",
    "\n",
    "a \n",
    "# array([[4, 3, 1],\n",
    "#        [5, 7, 0],\n",
    "#        [9, 9, 3],\n",
    "#        [8, 2, 4]])\n",
    "\n"
   ]
  },
  {
   "cell_type": "code",
   "execution_count": 128,
   "metadata": {},
   "outputs": [
    {
     "data": {
      "text/plain": [
       "array([[9, 9, 3],\n",
       "       [5, 7, 0],\n",
       "       [4, 3, 1],\n",
       "       [8, 2, 4]])"
      ]
     },
     "execution_count": 128,
     "metadata": {},
     "output_type": "execute_result"
    }
   ],
   "source": [
    "a[[0, 2]] = a[[2, 0]]\n",
    "a\n",
    "# array([[9, 9, 3],\n",
    "#       [5, 7, 0],\n",
    "#       [4, 3, 1],\n",
    "#       [8, 2, 4]])"
   ]
  },
  {
   "cell_type": "code",
   "execution_count": null,
   "metadata": {},
   "outputs": [],
   "source": [
    "14. Create a random matrix and Compute a matrix rank."
   ]
  },
  {
   "cell_type": "code",
   "execution_count": 129,
   "metadata": {},
   "outputs": [
    {
     "data": {
      "text/plain": [
       "3"
      ]
     },
     "execution_count": 129,
     "metadata": {},
     "output_type": "execute_result"
    }
   ],
   "source": [
    "B = np.array([[4,3,1], [5,7,0], [9,9,3], [8,2,4]])\n",
    "\n",
    "#A = numpy.matrix([[1,3,7],[2,8,3],[7,8,1]])\n",
    "\n",
    "numpy.linalg.matrix_rank(B)\n",
    "\n"
   ]
  },
  {
   "cell_type": "code",
   "execution_count": null,
   "metadata": {},
   "outputs": [],
   "source": []
  }
 ],
 "metadata": {
  "kernelspec": {
   "display_name": "Python 3",
   "language": "python",
   "name": "python3"
  },
  "language_info": {
   "codemirror_mode": {
    "name": "ipython",
    "version": 3
   },
   "file_extension": ".py",
   "mimetype": "text/x-python",
   "name": "python",
   "nbconvert_exporter": "python",
   "pygments_lexer": "ipython3",
   "version": "3.7.0"
  }
 },
 "nbformat": 4,
 "nbformat_minor": 2
}
