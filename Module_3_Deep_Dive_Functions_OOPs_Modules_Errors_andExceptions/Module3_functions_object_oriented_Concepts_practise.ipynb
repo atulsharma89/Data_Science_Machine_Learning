{
 "cells": [
  {
   "cell_type": "code",
   "execution_count": 2,
   "metadata": {},
   "outputs": [
    {
     "name": "stdout",
     "output_type": "stream",
     "text": [
      "enter number 4\n",
      "24\n"
     ]
    }
   ],
   "source": [
    "#factorial function\n",
    "\n",
    "num = int(input(\"enter number \"))\n",
    "\n",
    "factorial = 1\n",
    "\n",
    "if num < 0:\n",
    "    print(\"enter poitive nummbers please\")\n",
    "elif num ==0:\n",
    "    print(\"Factorial =1\")\n",
    "else:\n",
    "    for i in range(1,num+1):\n",
    "        factorial = factorial*i\n",
    "print(factorial)"
   ]
  },
  {
   "cell_type": "code",
   "execution_count": 5,
   "metadata": {},
   "outputs": [
    {
     "name": "stdout",
     "output_type": "stream",
     "text": [
      "Enter your namemonti\n",
      "Wlcome to python  monti\n"
     ]
    },
    {
     "data": {
      "text/plain": [
       "()"
      ]
     },
     "execution_count": 5,
     "metadata": {},
     "output_type": "execute_result"
    }
   ],
   "source": [
    "def print_name(str):\n",
    "    print(\"Wlcome to python \", str)\n",
    "    return()\n",
    "\n",
    "str=input(\"Enter your name\")\n",
    "print_name(str)"
   ]
  },
  {
   "cell_type": "code",
   "execution_count": 7,
   "metadata": {},
   "outputs": [
    {
     "name": "stdout",
     "output_type": "stream",
     "text": [
      "<class 'enumerate'>\n"
     ]
    }
   ],
   "source": [
    "grocery =[\"apple\",\"mangoe\",\"pine\"]\n",
    "\n",
    "groc_ennum=enumerate(grocery)\n",
    "\n",
    "print(type(groc_ennum))"
   ]
  },
  {
   "cell_type": "code",
   "execution_count": 8,
   "metadata": {},
   "outputs": [
    {
     "name": "stdout",
     "output_type": "stream",
     "text": [
      "[(0, 'apple'), (1, 'mangoe'), (2, 'pine')]\n"
     ]
    }
   ],
   "source": [
    "print(list(groc_ennum))"
   ]
  },
  {
   "cell_type": "code",
   "execution_count": 9,
   "metadata": {},
   "outputs": [],
   "source": [
    "groc_ennum1=enumerate(grocery,10)"
   ]
  },
  {
   "cell_type": "code",
   "execution_count": 10,
   "metadata": {},
   "outputs": [
    {
     "name": "stdout",
     "output_type": "stream",
     "text": [
      "[(10, 'apple'), (11, 'mangoe'), (12, 'pine')]\n"
     ]
    }
   ],
   "source": [
    "print(list(groc_ennum1))"
   ]
  },
  {
   "cell_type": "code",
   "execution_count": 11,
   "metadata": {},
   "outputs": [
    {
     "name": "stdout",
     "output_type": "stream",
     "text": [
      "enter your name atul\n",
      "Welcome to Python atul\n"
     ]
    }
   ],
   "source": [
    "def my_func(str):\n",
    "    name=print(\"Welcome to Python\",str)\n",
    "    return name\n",
    "\n",
    "str=input(\"enter your name \")\n",
    "my_func(str)"
   ]
  },
  {
   "cell_type": "code",
   "execution_count": 12,
   "metadata": {},
   "outputs": [
    {
     "data": {
      "text/plain": [
       "True"
      ]
     },
     "execution_count": 12,
     "metadata": {},
     "output_type": "execute_result"
    }
   ],
   "source": [
    "grocery =[\"apple\",\"mangoe\",\"pine\"]\n",
    "all(grocery)"
   ]
  },
  {
   "cell_type": "code",
   "execution_count": 13,
   "metadata": {},
   "outputs": [
    {
     "data": {
      "text/plain": [
       "False"
      ]
     },
     "execution_count": 13,
     "metadata": {},
     "output_type": "execute_result"
    }
   ],
   "source": [
    "grocery =[\"apple\",\"mangoe\",\"pine\",None]\n",
    "all(grocery)"
   ]
  },
  {
   "cell_type": "code",
   "execution_count": 14,
   "metadata": {},
   "outputs": [
    {
     "data": {
      "text/plain": [
       "True"
      ]
     },
     "execution_count": 14,
     "metadata": {},
     "output_type": "execute_result"
    }
   ],
   "source": [
    "grocery =[\"apple\",\"mangoe\",\"pine\",None]\n",
    "any(grocery)"
   ]
  },
  {
   "cell_type": "code",
   "execution_count": 17,
   "metadata": {},
   "outputs": [
    {
     "data": {
      "text/plain": [
       "False"
      ]
     },
     "execution_count": 17,
     "metadata": {},
     "output_type": "execute_result"
    }
   ],
   "source": [
    "grocery1 =[None,0,False]\n",
    "any(grocery1)"
   ]
  },
  {
   "cell_type": "code",
   "execution_count": 19,
   "metadata": {},
   "outputs": [],
   "source": [
    "ans = (lambda z:z*4)\n"
   ]
  },
  {
   "cell_type": "code",
   "execution_count": 20,
   "metadata": {},
   "outputs": [
    {
     "name": "stdout",
     "output_type": "stream",
     "text": [
      "16\n"
     ]
    }
   ],
   "source": [
    "print(ans(4))"
   ]
  },
  {
   "cell_type": "code",
   "execution_count": 24,
   "metadata": {},
   "outputs": [
    {
     "name": "stdout",
     "output_type": "stream",
     "text": [
      "[1, 2, 3, 4]\n",
      "[1, 4, 9, 16]\n"
     ]
    }
   ],
   "source": [
    "list1=[1,2,3,4]\n",
    "\n",
    "lst_lbda = list(map(lambda x:x**2, list1))\n",
    "\n",
    "print(list1)\n",
    "print(lst_lbda)"
   ]
  },
  {
   "cell_type": "code",
   "execution_count": 25,
   "metadata": {},
   "outputs": [
    {
     "name": "stdout",
     "output_type": "stream",
     "text": [
      "[1, 2, 3, 4, -1, -2]\n",
      "[-1, -2]\n"
     ]
    }
   ],
   "source": [
    "list1=[1,2,3,4,-1,-2]\n",
    "\n",
    "lst_less_thn_zero = list(filter(lambda x:x<0, list1))\n",
    "\n",
    "print(list1)\n",
    "print(lst_less_thn_zero)"
   ]
  },
  {
   "cell_type": "code",
   "execution_count": 28,
   "metadata": {},
   "outputs": [
    {
     "name": "stdout",
     "output_type": "stream",
     "text": [
      "24\n"
     ]
    }
   ],
   "source": [
    "from functools import reduce\n",
    "\n",
    "list1=[1,2,3,4]\n",
    "\n",
    "redc = reduce((lambda x,y:x*y), list1)\n",
    "\n",
    "print(redc)"
   ]
  },
  {
   "cell_type": "code",
   "execution_count": 29,
   "metadata": {},
   "outputs": [
    {
     "name": "stdout",
     "output_type": "stream",
     "text": [
      "30\n"
     ]
    }
   ],
   "source": [
    "add_func=(lambda x,y: x+y)(10,20)\n",
    "\n",
    "print(add_func)"
   ]
  },
  {
   "cell_type": "code",
   "execution_count": 30,
   "metadata": {},
   "outputs": [
    {
     "name": "stdout",
     "output_type": "stream",
     "text": [
      "4307010912\n",
      "4307010912\n"
     ]
    }
   ],
   "source": [
    "a=10\n",
    "b=10\n",
    "print(id(a))\n",
    "print(id(b))"
   ]
  },
  {
   "cell_type": "code",
   "execution_count": 32,
   "metadata": {},
   "outputs": [
    {
     "data": {
      "text/plain": [
       "23"
      ]
     },
     "execution_count": 32,
     "metadata": {},
     "output_type": "execute_result"
    }
   ],
   "source": [
    "def add(a,b,c,d=10):\n",
    "    return a+b+c+d\n",
    "\n",
    "add(0,1,12)"
   ]
  },
  {
   "cell_type": "code",
   "execution_count": 34,
   "metadata": {},
   "outputs": [],
   "source": [
    "def intro(name,age=50):\n",
    "    print(name)\n",
    "    print(age)\n",
    "    return()"
   ]
  },
  {
   "cell_type": "code",
   "execution_count": 35,
   "metadata": {},
   "outputs": [
    {
     "name": "stdout",
     "output_type": "stream",
     "text": [
      "Atul\n",
      "50\n"
     ]
    },
    {
     "data": {
      "text/plain": [
       "()"
      ]
     },
     "execution_count": 35,
     "metadata": {},
     "output_type": "execute_result"
    }
   ],
   "source": [
    "intro(\"Atul\")"
   ]
  },
  {
   "cell_type": "code",
   "execution_count": 47,
   "metadata": {},
   "outputs": [
    {
     "name": "stdout",
     "output_type": "stream",
     "text": [
      "argument 1 1\n",
      "argument 2 2\n",
      "argument 3 3\n",
      "argument 4 (4, 5, 6, 7)\n",
      "argument 5 {'name': 'bonda', 'place': 'chilibonda', 'age': 25}\n"
     ]
    }
   ],
   "source": [
    "def myfunc(arg1,arg2,arg3,*args,**kwargs):\n",
    "    print(\"argument 1\",  arg1)\n",
    "    print(\"argument 2\",  arg2)\n",
    "    print(\"argument 3\",  arg3)\n",
    "    print(\"argument 4\",  args)\n",
    "    print(\"argument 5\",  kwargs)\n",
    "   \n",
    "       \n",
    "\n",
    "myfunc(1,2,3,4,5,6,7,name='bonda',place='chilibonda', age=25)"
   ]
  },
  {
   "cell_type": "code",
   "execution_count": 51,
   "metadata": {},
   "outputs": [
    {
     "name": "stdout",
     "output_type": "stream",
     "text": [
      "positional arguments (1, 2, 3)\n",
      "keyword arguments  {'age': 2, 'height': 6}\n",
      "final sum is  14\n"
     ]
    }
   ],
   "source": [
    "def myfunc1(*args,**kwargs):\n",
    "    print(\"positional arguments\",  args)\n",
    "    print(\"keyword arguments \",  kwargs)\n",
    "    sum1=0\n",
    "    for elem in args:\n",
    "        sum1=sum1+elem\n",
    "    for elem in kwargs.values():\n",
    "        sum1=sum1+elem\n",
    "    print(\"final sum is \", sum1)\n",
    "       \n",
    "\n",
    "myfunc1(1,2,3,age=2, height=6)"
   ]
  },
  {
   "cell_type": "code",
   "execution_count": 52,
   "metadata": {},
   "outputs": [
    {
     "name": "stdout",
     "output_type": "stream",
     "text": [
      "positional arguments (1, 2)\n",
      "keyword arguments  {}\n",
      "final sum is  3\n"
     ]
    }
   ],
   "source": [
    "myfunc1(1,2)"
   ]
  },
  {
   "cell_type": "code",
   "execution_count": 53,
   "metadata": {},
   "outputs": [
    {
     "name": "stdout",
     "output_type": "stream",
     "text": [
      "positional arguments ()\n",
      "keyword arguments  {'age': 2, 'height': 6}\n",
      "final sum is  8\n"
     ]
    }
   ],
   "source": [
    "myfunc1(age=2, height=6)"
   ]
  },
  {
   "cell_type": "code",
   "execution_count": 59,
   "metadata": {},
   "outputs": [
    {
     "name": "stdout",
     "output_type": "stream",
     "text": [
      "Hello user\n"
     ]
    }
   ],
   "source": [
    "#Function\n",
    "#A function is a block of code to carry out a specific task, will contain its own scope and is called by name. \n",
    "#All functions may contain zero(no) arguments or more than one arguments. \n",
    "#On exit, a function can or can not return one or more values.\n",
    "#The function allows us to implement code reusability. There are three kinds of functions −\n",
    "\n",
    "#Built-in functions ( As the name suggests, these functions come with the Python language, for example, help() to ask for any help, max()- to get maximum value, type()- to return the type of an object and many more.)\n",
    "\n",
    "#User-defined functions ( These are the functions that users create to help them, like the “sum” function we have created above).\n",
    "\n",
    "#Anonymous Functions (also called lambda functions and unlike normal function which is defined using def keyword are defined using lambda keyword).\n",
    "\n",
    "\n",
    "\n",
    "#A method in python is somewhat similar to a function, except it is associated with object/classes. \n",
    "#Methods in python are very similar to functions except for two major differences. \n",
    "#The method is implicitly used for an object for which it is called. \n",
    "#The method is accessible to data that is contained within the class.\n",
    "#a method is a function which belongs to an object.\n",
    "\n",
    "class Hello():\n",
    "    def name(self):\n",
    "        print(\"Hello user\")\n",
    "object1=Hello()\n",
    "object1\n",
    "object1.name()\n"
   ]
  },
  {
   "cell_type": "code",
   "execution_count": null,
   "metadata": {},
   "outputs": [],
   "source": []
  }
 ],
 "metadata": {
  "kernelspec": {
   "display_name": "Python 3",
   "language": "python",
   "name": "python3"
  },
  "language_info": {
   "codemirror_mode": {
    "name": "ipython",
    "version": 3
   },
   "file_extension": ".py",
   "mimetype": "text/x-python",
   "name": "python",
   "nbconvert_exporter": "python",
   "pygments_lexer": "ipython3",
   "version": "3.7.0"
  }
 },
 "nbformat": 4,
 "nbformat_minor": 2
}
